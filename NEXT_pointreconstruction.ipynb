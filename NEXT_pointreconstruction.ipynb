{
 "cells": [
  {
   "cell_type": "markdown",
   "metadata": {
    "deletable": true,
    "editable": true
   },
   "source": [
    "# Point reconstruction in NEXT-NEW\n",
    "\n",
    "In this notebook we read in the prepared data, construct and train the DNN, and then evaluate its performance for reconstruction of point-like events in NEXT-NEW."
   ]
  },
  {
   "cell_type": "code",
   "execution_count": 12,
   "metadata": {
    "collapsed": false,
    "deletable": true,
    "editable": true
   },
   "outputs": [],
   "source": [
    "%matplotlib inline\n",
    "import matplotlib.pyplot as plt\n",
    "import numpy  as np\n",
    "import random as rd\n",
    "import tables as tb\n",
    "import h5py\n",
    "import tensorflow as tf\n",
    "\n",
    "from matplotlib.patches         import Ellipse\n",
    "from __future__  import print_function\n",
    "from scipy.stats import threshold\n",
    "\n",
    "# Keras imports\n",
    "import keras.backend.tensorflow_backend as K\n",
    "from keras.models               import Model, load_model, Sequential\n",
    "from keras.layers               import Input, Dense, MaxPooling3D, AveragePooling3D, Convolution3D, Activation, Dropout, merge\n",
    "from keras.layers.normalization import BatchNormalization\n",
    "from keras.optimizers           import SGD, Adam, Nadam         \n",
    "from keras.layers.convolutional import Convolution2D, MaxPooling2D\n",
    "from keras.layers.core          import Flatten\n",
    "from keras                      import callbacks\n",
    "from keras.regularizers         import l2"
   ]
  },
  {
   "cell_type": "markdown",
   "metadata": {
    "deletable": true,
    "editable": true
   },
   "source": [
    "# Variable definitions\n",
    "Here we define key variables to be used throughout the notebook.  Note that we will read the data from a directory `data_location/run_name`, and it is stored in multiple files:\n",
    "- The training data will consist of the events stored in files from `train_fstart` to `train_fend`\n",
    "- The test data will consist of the events stored in files from `test_fstart` to `test_fend`"
   ]
  },
  {
   "cell_type": "code",
   "execution_count": 2,
   "metadata": {
    "collapsed": true,
    "deletable": true,
    "editable": true
   },
   "outputs": [],
   "source": [
    "# data dimensions\n",
    "xdim = 48\n",
    "ydim = 48\n",
    "zdim = 1\n",
    "\n",
    "# data location and training/test file numbers\n",
    "data_fname = \"/Users/jrenner/IFIC/jerenner/next-deeplearning-analysis/data/dnn_kr_100k.h5\""
   ]
  },
  {
   "cell_type": "markdown",
   "metadata": {
    "deletable": true,
    "editable": true
   },
   "source": [
    "## Function definitions\n",
    "\n",
    "### Data input functions"
   ]
  },
  {
   "cell_type": "code",
   "execution_count": 3,
   "metadata": {
    "collapsed": true,
    "deletable": true,
    "editable": true
   },
   "outputs": [],
   "source": [
    "# define the function to read the data from multiple files\n",
    "def read_data(dat_file):\n",
    "    \"\"\"Reads all events from the files with the specified file numbers.\"\"\"\n",
    "    \n",
    "    # get the maps and the labels from the data file\n",
    "    indata = tb.open_file(dat_file, 'r')\n",
    "    sum_maps = np.reshape(indata.root.maps,(len(indata.root.maps), 48, 48))\n",
    "    labels = np.array(indata.root.coords,dtype=np.float32)\n",
    "    indata.close()\n",
    "\n",
    "    # reshape the maps to add the extra channel dimension and the labels to fit in the interval [0,1]\n",
    "    x_ = np.reshape(sum_maps, (len(sum_maps), 48, 48, 1))\n",
    "    y_ = labels[:,:2]/400. + 0.5\n",
    "    \n",
    "    print(\"Finished reading data.\")\n",
    "    return x_,y_"
   ]
  },
  {
   "cell_type": "markdown",
   "metadata": {
    "deletable": true,
    "editable": true
   },
   "source": [
    "### Neural network models\n",
    "These functions should define and return a Keras model object."
   ]
  },
  {
   "cell_type": "code",
   "execution_count": 15,
   "metadata": {
    "collapsed": false
   },
   "outputs": [],
   "source": [
    "# define a fully-connected neural network with 64 hidden neurons and 1 readout neuron\n",
    "def model_FC(inputs):\n",
    "\n",
    "    model = Sequential()\n",
    "    model.add(Flatten(input_shape=(48,48,1)))\n",
    "    model.add(Dense(output_dim=1024,activation='relu')) \n",
    "    model.add(Dense(output_dim=512,  activation='relu'))\n",
    "    model.add(Dense(output_dim=256,  activation='relu'))\n",
    "    model.add(Dense(output_dim=128, activation='relu'))\n",
    "    #model.add(Dense(output_dim=64, activation='relu'))\n",
    "    model.add(Dense(output_dim=2,    activation='relu'))\n",
    "\n",
    "    model.compile(loss='mse',\n",
    "                  optimizer=Nadam(lr=0.001, beta_1=0.9, beta_2=0.999,\n",
    "                                  epsilon=1e-08, schedule_decay=0.01),\n",
    "                                  metrics=['accuracy']) \n",
    "    return model"
   ]
  },
  {
   "cell_type": "code",
   "execution_count": 16,
   "metadata": {
    "collapsed": true,
    "deletable": true,
    "editable": true
   },
   "outputs": [],
   "source": [
    "# plot a 48x48 SiPM map\n",
    "# -- carried over from NEW_kr_diff_mc_train.ipynb\n",
    "def NEW_SiPM_map_plot(xarr, normalize=True):\n",
    "    \"\"\"\n",
    "    Plots a SiPM map in the NEW Geometry\n",
    "    xarr is a NEW sipm map, yarr the pair of coordinates the map corresponds to\n",
    "    \"\"\"\n",
    "    if normalize:\n",
    "        probs = (xarr - np.min(xarr))\n",
    "        probs /= np.max(probs)\n",
    "    else: \n",
    "        probs = xarr\n",
    "\n",
    "    # set up the figure\n",
    "    fig = plt.figure();\n",
    "    ax1 = fig.add_subplot(111);\n",
    "    fig.set_figheight(5.0)\n",
    "    fig.set_figwidth(5.0)\n",
    "    ax1.axis([-250, 250, -250, 250]);\n",
    "\n",
    "    for i in range(48):\n",
    "        for j in range(48):\n",
    "            r = Ellipse(xy=(i * 10 - 235, j * 10 - 235), width=2., height=2.);\n",
    "            r.set_facecolor('0');\n",
    "            r.set_alpha(probs[i, j]);\n",
    "            ax1.add_artist(r);\n",
    "        \n",
    "    plt.xlabel(\"x (mm)\");\n",
    "    plt.ylabel(\"y (mm)\");"
   ]
  },
  {
   "cell_type": "markdown",
   "metadata": {
    "deletable": true,
    "editable": true
   },
   "source": [
    "## Load in the data"
   ]
  },
  {
   "cell_type": "code",
   "execution_count": 17,
   "metadata": {
    "collapsed": false,
    "deletable": true,
    "editable": true
   },
   "outputs": [
    {
     "name": "stdout",
     "output_type": "stream",
     "text": [
      "Finished reading data.\n"
     ]
    }
   ],
   "source": [
    "# read in the training data\n",
    "x_train, y_train = read_data(data_fname)"
   ]
  },
  {
   "cell_type": "code",
   "execution_count": 18,
   "metadata": {
    "collapsed": false,
    "deletable": true,
    "editable": true
   },
   "outputs": [
    {
     "data": {
      "image/png": "[encoded data removed]",
      "text/plain": [
       "<matplotlib.figure.Figure at 0x11d5079b0>"
      ]
     },
     "metadata": {},
     "output_type": "display_data"
    }
   ],
   "source": [
    "# plot one slice of one event with corresponding true point\n",
    "NEW_SiPM_map_plot(x_train[0,:,:,0])"
   ]
  },
  {
   "cell_type": "markdown",
   "metadata": {
    "deletable": true,
    "editable": true
   },
   "source": [
    "## Define and train the DNN"
   ]
  },
  {
   "cell_type": "code",
   "execution_count": 19,
   "metadata": {
    "collapsed": false,
    "deletable": true,
    "editable": true
   },
   "outputs": [
    {
     "name": "stdout",
     "output_type": "stream",
     "text": [
      "_________________________________________________________________\n",
      "Layer (type)                 Output Shape              Param #   \n",
      "=================================================================\n",
      "flatten_2 (Flatten)          (None, 2304)              0         \n",
      "_________________________________________________________________\n",
      "dense_6 (Dense)              (None, 1024)              2360320   \n",
      "_________________________________________________________________\n",
      "dense_7 (Dense)              (None, 512)               524800    \n",
      "_________________________________________________________________\n",
      "dense_8 (Dense)              (None, 256)               131328    \n",
      "_________________________________________________________________\n",
      "dense_9 (Dense)              (None, 128)               32896     \n",
      "_________________________________________________________________\n",
      "dense_10 (Dense)             (None, 2)                 258       \n",
      "=================================================================\n",
      "Total params: 3,049,602.0\n",
      "Trainable params: 3,049,602.0\n",
      "Non-trainable params: 0.0\n",
      "_________________________________________________________________\n"
     ]
    },
    {
     "name": "stderr",
     "output_type": "stream",
     "text": [
      "/Users/jrenner/anaconda3/lib/python3.5/site-packages/ipykernel/__main__.py:6: UserWarning: Update your `Dense` call to the Keras 2 API: `Dense(activation=\"relu\", units=1024)`\n",
      "/Users/jrenner/anaconda3/lib/python3.5/site-packages/ipykernel/__main__.py:7: UserWarning: Update your `Dense` call to the Keras 2 API: `Dense(activation=\"relu\", units=512)`\n",
      "/Users/jrenner/anaconda3/lib/python3.5/site-packages/ipykernel/__main__.py:8: UserWarning: Update your `Dense` call to the Keras 2 API: `Dense(activation=\"relu\", units=256)`\n",
      "/Users/jrenner/anaconda3/lib/python3.5/site-packages/ipykernel/__main__.py:9: UserWarning: Update your `Dense` call to the Keras 2 API: `Dense(activation=\"relu\", units=128)`\n",
      "/Users/jrenner/anaconda3/lib/python3.5/site-packages/ipykernel/__main__.py:11: UserWarning: Update your `Dense` call to the Keras 2 API: `Dense(activation=\"relu\", units=2)`\n"
     ]
    }
   ],
   "source": [
    "# set load_model to true and specify the file to load in a previously defined/trained model\n",
    "load_model = False\n",
    "mfile = 'models/conv3d_classifier.h5'\n",
    "\n",
    "if(load_model):\n",
    "    model = load_model(mfile)\n",
    "else:\n",
    "    \n",
    "    # otherwise define the model\n",
    "    inputs = Input(shape=(xdim, ydim, zdim, 1))\n",
    "    model = model_FC(inputs)\n",
    "    \n",
    "    # define callbacks (actions to be taken after each epoch of training)\n",
    "    file_lbl = \"{epoch:02d}-{loss:.4f}\"\n",
    "    filepath=\"weights-{0}.h5\".format(file_lbl)\n",
    "    checkpoint = callbacks.ModelCheckpoint(filepath, monitor='val_loss', verbose=0, save_best_only=True, mode='min')\n",
    "    lcallbacks = [checkpoint]            \n",
    "    model.summary()"
   ]
  },
  {
   "cell_type": "code",
   "execution_count": 20,
   "metadata": {
    "collapsed": false,
    "deletable": true,
    "editable": true,
    "scrolled": false
   },
   "outputs": [
    {
     "name": "stderr",
     "output_type": "stream",
     "text": [
      "/Users/jrenner/anaconda3/lib/python3.5/site-packages/keras/models.py:826: UserWarning: The `nb_epoch` argument in `fit` has been renamed `epochs`.\n",
      "  warnings.warn('The `nb_epoch` argument in `fit` '\n"
     ]
    },
    {
     "name": "stdout",
     "output_type": "stream",
     "text": [
      "Train on 95000 samples, validate on 5000 samples\n",
      "Epoch 1/60\n",
      "95000/95000 [==============================] - 121s - loss: 0.0276 - acc: 0.9058 - val_loss: 1.6408e-04 - val_acc: 0.9906\n",
      "Epoch 2/60\n",
      "95000/95000 [==============================] - 120s - loss: 1.8403e-04 - acc: 0.9926 - val_loss: 6.9162e-05 - val_acc: 0.9960\n",
      "Epoch 3/60\n",
      "95000/95000 [==============================] - 119s - loss: 8.7205e-05 - acc: 0.9945 - val_loss: 7.1931e-05 - val_acc: 0.9964\n",
      "Epoch 4/60\n",
      "95000/95000 [==============================] - 421s - loss: 6.5987e-05 - acc: 0.9954 - val_loss: 3.0204e-05 - val_acc: 0.9974\n",
      "Epoch 5/60\n",
      "95000/95000 [==============================] - 121s - loss: 4.5545e-05 - acc: 0.9961 - val_loss: 2.1177e-05 - val_acc: 0.9968\n",
      "Epoch 6/60\n",
      "95000/95000 [==============================] - 120s - loss: 3.9251e-05 - acc: 0.9960 - val_loss: 3.0874e-05 - val_acc: 0.9958\n",
      "Epoch 7/60\n",
      "95000/95000 [==============================] - 121s - loss: 3.0505e-05 - acc: 0.9965 - val_loss: 2.6103e-05 - val_acc: 0.9962\n",
      "Epoch 8/60\n",
      "95000/95000 [==============================] - 121s - loss: 2.3515e-05 - acc: 0.9971 - val_loss: 1.1628e-05 - val_acc: 0.9984\n",
      "Epoch 9/60\n",
      "95000/95000 [==============================] - 121s - loss: 2.0129e-05 - acc: 0.9970 - val_loss: 8.3363e-06 - val_acc: 0.9982\n",
      "Epoch 10/60\n",
      "95000/95000 [==============================] - 123s - loss: 2.0036e-05 - acc: 0.9972 - val_loss: 4.7668e-05 - val_acc: 0.9966\n",
      "Epoch 11/60\n",
      "95000/95000 [==============================] - 121s - loss: 1.4507e-05 - acc: 0.9973 - val_loss: 7.3388e-06 - val_acc: 0.9990\n",
      "Epoch 12/60\n",
      "95000/95000 [==============================] - 122s - loss: 1.4796e-05 - acc: 0.9976 - val_loss: 4.8665e-06 - val_acc: 0.9980\n",
      "Epoch 13/60\n",
      "95000/95000 [==============================] - 121s - loss: 1.2811e-05 - acc: 0.9975 - val_loss: 1.0953e-05 - val_acc: 0.9970\n",
      "Epoch 14/60\n",
      "95000/95000 [==============================] - 120s - loss: 1.2356e-05 - acc: 0.9974 - val_loss: 7.8996e-06 - val_acc: 0.9974\n",
      "Epoch 15/60\n",
      "95000/95000 [==============================] - 121s - loss: 1.1656e-05 - acc: 0.9977 - val_loss: 7.8714e-06 - val_acc: 0.9982\n",
      "Epoch 16/60\n",
      "95000/95000 [==============================] - 5155s - loss: 1.0532e-05 - acc: 0.9976 - val_loss: 1.9327e-05 - val_acc: 0.9948\n",
      "Epoch 17/60\n",
      "95000/95000 [==============================] - 122s - loss: 9.3274e-06 - acc: 0.9977 - val_loss: 4.4484e-06 - val_acc: 0.9986\n",
      "Epoch 18/60\n",
      "95000/95000 [==============================] - 120s - loss: 9.4301e-06 - acc: 0.9978 - val_loss: 6.0060e-06 - val_acc: 0.9992\n",
      "Epoch 19/60\n",
      "95000/95000 [==============================] - 117s - loss: 8.3902e-06 - acc: 0.9979 - val_loss: 5.2529e-06 - val_acc: 0.9988\n",
      "Epoch 20/60\n",
      "95000/95000 [==============================] - 116s - loss: 8.1581e-06 - acc: 0.9979 - val_loss: 1.7408e-05 - val_acc: 0.9986\n",
      "Epoch 21/60\n",
      "95000/95000 [==============================] - 120s - loss: 7.9725e-06 - acc: 0.9978 - val_loss: 2.2782e-05 - val_acc: 0.9974\n",
      "Epoch 22/60\n",
      "95000/95000 [==============================] - 122s - loss: 7.7912e-06 - acc: 0.9981 - val_loss: 3.4861e-06 - val_acc: 0.9992\n",
      "Epoch 23/60\n",
      "95000/95000 [==============================] - 121s - loss: 7.3562e-06 - acc: 0.9981 - val_loss: 6.6834e-06 - val_acc: 0.9980\n",
      "Epoch 24/60\n",
      "95000/95000 [==============================] - 119s - loss: 7.0322e-06 - acc: 0.9980 - val_loss: 1.4207e-05 - val_acc: 0.9974\n",
      "Epoch 25/60\n",
      "95000/95000 [==============================] - 117s - loss: 7.0767e-06 - acc: 0.9981 - val_loss: 4.9806e-06 - val_acc: 0.9978\n",
      "Epoch 26/60\n",
      "95000/95000 [==============================] - 757s - loss: 5.8880e-06 - acc: 0.9980 - val_loss: 1.3091e-05 - val_acc: 0.9978\n",
      "Epoch 27/60\n",
      "95000/95000 [==============================] - 126s - loss: 6.5697e-06 - acc: 0.9980 - val_loss: 4.3633e-06 - val_acc: 0.9984\n",
      "Epoch 28/60\n",
      "95000/95000 [==============================] - 123s - loss: 6.0103e-06 - acc: 0.9982 - val_loss: 3.7863e-06 - val_acc: 0.9986\n",
      "Epoch 29/60\n",
      "95000/95000 [==============================] - 120s - loss: 6.2409e-06 - acc: 0.9980 - val_loss: 4.4495e-06 - val_acc: 0.9978\n",
      "Epoch 30/60\n",
      "95000/95000 [==============================] - 120s - loss: 5.9221e-06 - acc: 0.9983 - val_loss: 4.4069e-06 - val_acc: 0.9986\n",
      "Epoch 31/60\n",
      "95000/95000 [==============================] - 118s - loss: 5.7355e-06 - acc: 0.9983 - val_loss: 3.2479e-06 - val_acc: 0.9988\n",
      "Epoch 32/60\n",
      "95000/95000 [==============================] - 117s - loss: 6.2116e-06 - acc: 0.9983 - val_loss: 8.4255e-06 - val_acc: 0.9982\n",
      "Epoch 33/60\n",
      "95000/95000 [==============================] - 117s - loss: 4.9919e-06 - acc: 0.9983 - val_loss: 2.5699e-06 - val_acc: 0.9984\n",
      "Epoch 34/60\n",
      "95000/95000 [==============================] - 116s - loss: 5.4623e-06 - acc: 0.9983 - val_loss: 3.6912e-06 - val_acc: 0.9988\n",
      "Epoch 35/60\n",
      "95000/95000 [==============================] - 117s - loss: 5.0629e-06 - acc: 0.9981 - val_loss: 3.4107e-06 - val_acc: 0.9986\n",
      "Epoch 36/60\n",
      "95000/95000 [==============================] - 121s - loss: 5.3207e-06 - acc: 0.9983 - val_loss: 3.4251e-06 - val_acc: 0.9994\n",
      "Epoch 37/60\n",
      "95000/95000 [==============================] - 120s - loss: 4.9020e-06 - acc: 0.9983 - val_loss: 2.2650e-06 - val_acc: 0.9992\n",
      "Epoch 38/60\n",
      "95000/95000 [==============================] - 119s - loss: 5.3194e-06 - acc: 0.9983 - val_loss: 5.3778e-06 - val_acc: 0.9988\n",
      "Epoch 39/60\n",
      "95000/95000 [==============================] - 117s - loss: 4.4823e-06 - acc: 0.9984 - val_loss: 2.8413e-06 - val_acc: 0.9986\n",
      "Epoch 40/60\n",
      "95000/95000 [==============================] - 116s - loss: 5.2670e-06 - acc: 0.9983 - val_loss: 5.2748e-06 - val_acc: 0.9990\n",
      "Epoch 41/60\n",
      "95000/95000 [==============================] - 118s - loss: 4.4770e-06 - acc: 0.9984 - val_loss: 2.9171e-06 - val_acc: 0.9980\n",
      "Epoch 42/60\n",
      "95000/95000 [==============================] - 120s - loss: 4.7675e-06 - acc: 0.9983 - val_loss: 4.8318e-06 - val_acc: 0.9982\n",
      "Epoch 43/60\n",
      "95000/95000 [==============================] - 118s - loss: 4.4103e-06 - acc: 0.9984 - val_loss: 3.9302e-06 - val_acc: 0.9984\n",
      "Epoch 44/60\n",
      "95000/95000 [==============================] - 121s - loss: 4.5054e-06 - acc: 0.9983 - val_loss: 4.6746e-06 - val_acc: 0.9982\n",
      "Epoch 45/60\n",
      "95000/95000 [==============================] - 129s - loss: 4.5813e-06 - acc: 0.9983 - val_loss: 5.1308e-06 - val_acc: 0.9988\n",
      "Epoch 46/60\n",
      "95000/95000 [==============================] - 126s - loss: 4.1859e-06 - acc: 0.9986 - val_loss: 4.0781e-06 - val_acc: 0.9990\n",
      "Epoch 47/60\n",
      "95000/95000 [==============================] - 122s - loss: 4.6514e-06 - acc: 0.9985 - val_loss: 2.2308e-06 - val_acc: 0.9984\n",
      "Epoch 48/60\n",
      "95000/95000 [==============================] - 123s - loss: 4.1103e-06 - acc: 0.9987 - val_loss: 8.7734e-06 - val_acc: 0.9984\n",
      "Epoch 49/60\n",
      "95000/95000 [==============================] - 121s - loss: 4.0875e-06 - acc: 0.9986 - val_loss: 2.6891e-06 - val_acc: 0.9986\n",
      "Epoch 50/60\n",
      "95000/95000 [==============================] - 121s - loss: 4.1972e-06 - acc: 0.9985 - val_loss: 3.3730e-06 - val_acc: 0.9976\n",
      "Epoch 51/60\n",
      "95000/95000 [==============================] - 121s - loss: 4.1131e-06 - acc: 0.9986 - val_loss: 2.3745e-06 - val_acc: 0.9988\n",
      "Epoch 52/60\n",
      "95000/95000 [==============================] - 119s - loss: 4.4217e-06 - acc: 0.9985 - val_loss: 3.5587e-06 - val_acc: 0.9990\n",
      "Epoch 53/60\n",
      "95000/95000 [==============================] - 120s - loss: 3.7886e-06 - acc: 0.9983 - val_loss: 3.2483e-06 - val_acc: 0.9986\n",
      "Epoch 54/60\n",
      "95000/95000 [==============================] - 121s - loss: 3.9398e-06 - acc: 0.9985 - val_loss: 1.9388e-06 - val_acc: 0.9988\n",
      "Epoch 55/60\n",
      "95000/95000 [==============================] - 126s - loss: 4.0001e-06 - acc: 0.9985 - val_loss: 2.4517e-06 - val_acc: 0.9990\n",
      "Epoch 56/60\n",
      "95000/95000 [==============================] - 150s - loss: 3.8302e-06 - acc: 0.9985 - val_loss: 7.7186e-06 - val_acc: 0.9988\n",
      "Epoch 57/60\n",
      "95000/95000 [==============================] - 118s - loss: 3.6663e-06 - acc: 0.9984 - val_loss: 2.3738e-06 - val_acc: 0.9988\n",
      "Epoch 58/60\n",
      "95000/95000 [==============================] - 132s - loss: 3.9261e-06 - acc: 0.9987 - val_loss: 4.8404e-06 - val_acc: 0.9984\n",
      "Epoch 59/60\n",
      "95000/95000 [==============================] - 117s - loss: 3.6690e-06 - acc: 0.9987 - val_loss: 3.1612e-06 - val_acc: 0.9982\n",
      "Epoch 60/60\n",
      "95000/95000 [==============================] - 116s - loss: 3.8504e-06 - acc: 0.9986 - val_loss: 2.4107e-06 - val_acc: 0.9988\n"
     ]
    }
   ],
   "source": [
    "# train the model\n",
    "hist = model.fit(x_train, y_train, shuffle=True, nb_epoch=60, batch_size=100, verbose=1, validation_split=0.05, callbacks=lcallbacks)"
   ]
  },
  {
   "cell_type": "markdown",
   "metadata": {
    "deletable": true,
    "editable": true
   },
   "source": [
    "## Test the trained model"
   ]
  },
  {
   "cell_type": "code",
   "execution_count": null,
   "metadata": {
    "collapsed": false,
    "deletable": true,
    "editable": true
   },
   "outputs": [],
   "source": [
    "# read in the test data\n",
    "x_test, y_test = read_data(data_location, run_name, 3, 5)"
   ]
  },
  {
   "cell_type": "code",
   "execution_count": null,
   "metadata": {
    "collapsed": false,
    "deletable": true,
    "editable": true
   },
   "outputs": [],
   "source": [
    "# compute the predictions\n",
    "loss_and_metrics = model.evaluate(x_test, y_test);\n",
    "y_pred = model.predict(x_test, batch_size=100, verbose=0)\n",
    "print(loss_and_metrics)"
   ]
  },
  {
   "cell_type": "code",
   "execution_count": null,
   "metadata": {
    "collapsed": true,
    "deletable": true,
    "editable": true
   },
   "outputs": [],
   "source": []
  }
 ],
 "metadata": {
  "anaconda-cloud": {},
  "kernelspec": {
   "display_name": "Python [default]",
   "language": "python",
   "name": "python3"
  },
  "language_info": {
   "codemirror_mode": {
    "name": "ipython",
    "version": 3
   },
   "file_extension": ".py",
   "mimetype": "text/x-python",
   "name": "python",
   "nbconvert_exporter": "python",
   "pygments_lexer": "ipython3",
   "version": "3.5.2"
  }
 },
 "nbformat": 4,
 "nbformat_minor": 0
}
