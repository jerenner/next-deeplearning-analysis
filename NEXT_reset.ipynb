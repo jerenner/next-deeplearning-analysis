{
 "cells": [
  {
   "cell_type": "markdown",
   "metadata": {
    "deletable": true,
    "editable": true
   },
   "source": [
    "# Classification with RESET-reconstructed events\n",
    "\n",
    "In this notebook we read in the prepared data, construct and train the DNN, and then evaluate its performance for the classification of RESET-reconstructed events."
   ]
  },
  {
   "cell_type": "code",
   "execution_count": 1,
   "metadata": {
    "collapsed": false,
    "deletable": true,
    "editable": true
   },
   "outputs": [
    {
     "name": "stderr",
     "output_type": "stream",
     "text": [
      "Using TensorFlow backend.\n"
     ]
    }
   ],
   "source": [
    "%matplotlib inline\n",
    "import matplotlib.pyplot as plt\n",
    "import numpy  as np\n",
    "import random as rd\n",
    "import tables as tb\n",
    "import h5py\n",
    "import tensorflow as tf\n",
    "\n",
    "from matplotlib.patches         import Ellipse\n",
    "from __future__  import print_function\n",
    "from scipy.stats import threshold\n",
    "\n",
    "# Keras imports\n",
    "import keras.backend.tensorflow_backend as K\n",
    "from keras.models               import Model, load_model, Sequential\n",
    "from keras.layers               import Input, Dense, Activation, Dropout, merge\n",
    "from keras.layers.normalization import BatchNormalization\n",
    "from keras.optimizers           import SGD, Adam, Nadam         \n",
    "from keras.layers.convolutional import Conv2D, MaxPooling2D, AveragePooling2D, MaxPooling3D, AveragePooling3D, Conv3D\n",
    "from keras.layers.core          import Flatten\n",
    "from keras                      import callbacks\n",
    "from keras.regularizers         import l2"
   ]
  },
  {
   "cell_type": "markdown",
   "metadata": {
    "deletable": true,
    "editable": true
   },
   "source": [
    "# Variable definitions\n",
    "Here we define key variables to be used throughout the notebook."
   ]
  },
  {
   "cell_type": "code",
   "execution_count": 2,
   "metadata": {
    "collapsed": true,
    "deletable": true,
    "editable": true
   },
   "outputs": [],
   "source": [
    "# data dimensions\n",
    "xdim = 40\n",
    "ydim = 40\n",
    "zdim = 40\n",
    "vsizeX = 10.\n",
    "vsizeY = 10.\n",
    "vsizeZ = 10\n",
    "\n",
    "# number of train/validation/test events per event type\n",
    "ntot = 50000\n",
    "ntest = 1000  # 5000\n",
    "nval = 500   # 5000\n",
    "\n",
    "# data location and training/test file numbers\n",
    "data_fname_si = \"/home/jrenner/data/reset/reset_bb_V10_3D.h5\"\n",
    "data_fname_bg = \"/home/jrenner/data/reset/reset_se_V10_3D.h5\""
   ]
  },
  {
   "cell_type": "markdown",
   "metadata": {
    "deletable": true,
    "editable": true
   },
   "source": [
    "## Function definitions\n",
    "\n",
    "### Data input functions"
   ]
  },
  {
   "cell_type": "code",
   "execution_count": 3,
   "metadata": {
    "collapsed": true,
    "deletable": true,
    "editable": true
   },
   "outputs": [],
   "source": [
    "# define the function to read the data from multiple files\n",
    "def read_data(dataf_si, dataf_bg, read3d=False):\n",
    "    \"\"\"Reads all events from the files with the specified file numbers.\"\"\"\n",
    "    \n",
    "    # get the maps and the labels from the data files\n",
    "    indata_si = tb.open_file(dataf_si, 'r')\n",
    "    maps_si = indata_si.root.maps[0:ntot]\n",
    "    if(read3d): maps_si = np.reshape(maps_si, (len(maps_si), xdim, ydim, zdim))\n",
    "    else: maps_si = np.reshape(maps_si, (len(maps_si), xdim, ydim))\n",
    "    labels_si = np.array(indata_si.root.coords[0:ntot],dtype=np.float32)\n",
    "    indata_si.close()\n",
    "    print(\"Read {0} signal events\".format(len(maps_si)))\n",
    "    \n",
    "    indata_bg = tb.open_file(dataf_bg, 'r')\n",
    "    maps_bg = indata_bg.root.maps[0:ntot]\n",
    "    if(read3d): maps_bg = np.reshape(maps_bg, (len(maps_bg), xdim, ydim, zdim))\n",
    "    else: maps_bg = np.reshape(maps_bg, (len(maps_bg), xdim, ydim))\n",
    "    labels_bg = np.array(indata_bg.root.coords[0:ntot],dtype=np.float32)\n",
    "    indata_bg.close()\n",
    "    print(\"Read {0} background events\".format(len(maps_bg)))\n",
    "    \n",
    "    # concatenate the datasets for training and test data\n",
    "    x_ = np.concatenate([maps_si[0:-ntest-nval], maps_bg[0:-ntest-nval]])\n",
    "    y_ = np.concatenate([labels_si[0:-ntest-nval], labels_bg[0:-ntest-nval]])\n",
    "    xval_ = np.concatenate([maps_si[-ntest-nval:-ntest], maps_bg[-ntest-nval:-ntest]])\n",
    "    yval_ = np.concatenate([labels_si[-ntest-nval:-ntest], labels_bg[-ntest-nval:-ntest]])\n",
    "    xtest_ = np.concatenate([maps_si[-ntest:], maps_bg[-ntest:]])\n",
    "    ytest_ = np.concatenate([labels_si[-ntest:], labels_bg[-ntest:]])\n",
    "    \n",
    "    # reshape the maps to add the extra channel dimension and the labels to fit in the interval [0,1]\n",
    "    if(read3d):\n",
    "        x_ = np.reshape(x_, (len(x_), xdim, ydim, zdim, 1))\n",
    "        xval_ = np.reshape(xval_, (len(xval_), xdim, ydim, zdim, 1))\n",
    "        xtest_ = np.reshape(xtest_, (len(xtest_), xdim, ydim, zdim, 1))\n",
    "    else:\n",
    "        x_ = np.reshape(x_, (len(x_), xdim, ydim, 1))\n",
    "        xval_ = np.reshape(xval_, (len(xval_), xdim, ydim, 1))\n",
    "        xtest_ = np.reshape(xtest_, (len(xtest_), xdim, ydim, 1))\n",
    "    \n",
    "    print(\"Finished reading data: {0} training events, {1} validation events, and {2} test events\".format(len(x_),len(xval_),len(xtest_)))\n",
    "    return x_,y_,xval_,yval_,xtest_,ytest_"
   ]
  },
  {
   "cell_type": "markdown",
   "metadata": {
    "deletable": true,
    "editable": true
   },
   "source": [
    "### Neural network models\n",
    "These functions should define and return a Keras model object."
   ]
  },
  {
   "cell_type": "code",
   "execution_count": 4,
   "metadata": {
    "collapsed": false
   },
   "outputs": [],
   "source": [
    "# define a fully-connected neural network with 64 hidden neurons and 1 readout neuron\n",
    "def model_FC(inputs):\n",
    "\n",
    "    model = Sequential()\n",
    "    model.add(Flatten(input_shape=(xdim,ydim,1)))\n",
    "    model.add(Dense(output_dim=1024,activation='relu')) \n",
    "    model.add(Dense(output_dim=512,  activation='relu'))\n",
    "    model.add(Dense(output_dim=256,  activation='relu'))\n",
    "    model.add(Dense(output_dim=128, activation='relu'))\n",
    "    #model.add(Dense(output_dim=64, activation='relu'))\n",
    "    model.add(Dense(output_dim=1,    activation='relu'))\n",
    "\n",
    "    model.compile(loss='binary_crossentropy',\n",
    "                  optimizer=Nadam(lr=0.00005, beta_1=0.9, beta_2=0.999,\n",
    "                                  epsilon=1e-08, schedule_decay=0.01),\n",
    "                                  metrics=['accuracy']) \n",
    "    return model"
   ]
  },
  {
   "cell_type": "code",
   "execution_count": 5,
   "metadata": {
    "collapsed": true
   },
   "outputs": [],
   "source": [
    "def model_CNN_3D(inputs):\n",
    "#, kernel_regularizer=l2(0.1)    \n",
    "    cinputs = Conv3D(32, (5, 5, 5), padding='same', strides=(2, 2, 2), activation='relu', kernel_initializer='lecun_uniform')(inputs)\n",
    "    cinputs = AveragePooling3D(pool_size=(2, 2, 2), data_format=None, padding=\"same\", strides=(2, 2, 2))(cinputs)\n",
    "    cinputs = BatchNormalization(epsilon=1e-05, axis=4, momentum=0.99, weights=None, beta_initializer='zero', gamma_initializer='one', gamma_regularizer=None, beta_regularizer=None)(cinputs)\n",
    "    cinputs = Conv3D(64, (3, 3, 3), padding='same', strides=(1, 1, 1), activation='relu', kernel_initializer='lecun_uniform')(cinputs)\n",
    "    cinputs = BatchNormalization(epsilon=1e-05, axis=4, momentum=0.99, weights=None, beta_initializer='zero', gamma_initializer='one', gamma_regularizer=None, beta_regularizer=None)(cinputs)\n",
    "    cinputs = AveragePooling3D(pool_size=(2, 2, 2), data_format=None, padding=\"same\", strides=(2, 2, 2))(cinputs)\n",
    "    cinputs = Conv3D(128, (2, 2, 2), padding='same', strides=(1, 1, 1), activation='relu', kernel_initializer='lecun_uniform')(cinputs)\n",
    "    cinputs = BatchNormalization(epsilon=1e-05, axis=4, momentum=0.99, weights=None, beta_initializer='zero', gamma_initializer='one', gamma_regularizer=None, beta_regularizer=None)(cinputs)\n",
    "    cinputs = AveragePooling3D(pool_size=(2, 2, 2), data_format=None, padding=\"same\", strides=(2, 2, 2))(cinputs)\n",
    "    f1 = Flatten()(cinputs)\n",
    "    f1 = Dense(units=16, activation='relu', kernel_initializer='lecun_uniform')(f1)\n",
    "    f1 = Dropout(.4)(f1)\n",
    "\n",
    "    inc_output = Dense(units=1, activation='sigmoid', kernel_initializer='lecun_uniform')(f1)\n",
    "    model = Model(inputs, inc_output)\n",
    "    \n",
    "    model.compile(loss='binary_crossentropy',\n",
    "                      optimizer=Nadam(lr=0.00002, beta_1=0.9, beta_2=0.999,\n",
    "                                      epsilon=1e-08, schedule_decay=0.001), metrics=['accuracy'])\n",
    "    \n",
    "    return model"
   ]
  },
  {
   "cell_type": "code",
   "execution_count": 6,
   "metadata": {
    "collapsed": true
   },
   "outputs": [],
   "source": [
    "def model_CNN(inputs):\n",
    "#, kernel_regularizer=l2(0.1)    \n",
    "    cinputs = Conv2D(32, (5, 5), padding='same', strides=(2, 2), activation='relu', kernel_initializer='lecun_uniform')(inputs)\n",
    "    cinputs = AveragePooling2D(pool_size=(2, 2), data_format=None, padding=\"same\", strides=(2, 2))(cinputs)\n",
    "    cinputs = BatchNormalization(epsilon=1e-05, axis=3, momentum=0.99, weights=None, beta_initializer='zero', gamma_initializer='one', gamma_regularizer=None, beta_regularizer=None)(cinputs)\n",
    "    cinputs = Conv2D(64, (3, 3), padding='same', strides=(1, 1), activation='relu', kernel_initializer='lecun_uniform')(cinputs)\n",
    "    cinputs = BatchNormalization(epsilon=1e-05, axis=3, momentum=0.99, weights=None, beta_initializer='zero', gamma_initializer='one', gamma_regularizer=None, beta_regularizer=None)(cinputs)\n",
    "    cinputs = AveragePooling2D(pool_size=(2, 2), data_format=None, padding=\"same\", strides=(2, 2))(cinputs)\n",
    "    cinputs = Conv2D(128, (2, 2), padding='same', strides=(1, 1), activation='relu', kernel_initializer='lecun_uniform')(cinputs)\n",
    "    cinputs = BatchNormalization(epsilon=1e-05, axis=3, momentum=0.99, weights=None, beta_initializer='zero', gamma_initializer='one', gamma_regularizer=None, beta_regularizer=None)(cinputs)\n",
    "    cinputs = AveragePooling2D(pool_size=(2, 2), data_format=None, padding=\"same\", strides=(2, 2))(cinputs)\n",
    "    f1 = Flatten()(cinputs)\n",
    "    f1 = Dense(units=16, activation='relu', kernel_initializer='lecun_uniform')(f1)\n",
    "    f1 = Dropout(.4)(f1)\n",
    "\n",
    "    inc_output = Dense(units=1, activation='sigmoid', kernel_initializer='lecun_uniform')(f1)\n",
    "    model = Model(inputs, inc_output)\n",
    "    \n",
    "    model.compile(loss='binary_crossentropy',\n",
    "                      optimizer=Nadam(lr=0.00002, beta_1=0.9, beta_2=0.999,\n",
    "                                      epsilon=1e-08, schedule_decay=0.001), metrics=['accuracy'])\n",
    "    \n",
    "    return model"
   ]
  },
  {
   "cell_type": "code",
   "execution_count": 7,
   "metadata": {
    "collapsed": true
   },
   "outputs": [],
   "source": [
    "def model_CNN_V5(inputs):\n",
    " \n",
    "    cinputs = Conv2D(32, (8, 8), padding='same', strides=(2, 2), activation='relu', kernel_initializer='lecun_uniform')(inputs)\n",
    "    cinputs = AveragePooling2D(pool_size=(3, 3), data_format=None, padding=\"same\", strides=(3, 3))(cinputs)\n",
    "    cinputs = BatchNormalization(epsilon=1e-05, axis=3, momentum=0.99, weights=None, beta_initializer='zero', gamma_initializer='one', gamma_regularizer=None, beta_regularizer=None)(cinputs)\n",
    "    cinputs = Conv2D(64, (3, 3), padding='same', strides=(1, 1), activation='relu', kernel_initializer='lecun_uniform')(cinputs)\n",
    "    cinputs = BatchNormalization(epsilon=1e-05, axis=3, momentum=0.99, weights=None, beta_initializer='zero', gamma_initializer='one', gamma_regularizer=None, beta_regularizer=None)(cinputs)\n",
    "    cinputs = AveragePooling2D(pool_size=(2, 2), data_format=None, padding=\"same\", strides=(2, 2))(cinputs)\n",
    "    cinputs = Conv2D(128, (2, 2), padding='same', strides=(1, 1), activation='relu', kernel_initializer='lecun_uniform')(cinputs)\n",
    "    cinputs = BatchNormalization(epsilon=1e-05, axis=3, momentum=0.99, weights=None, beta_initializer='zero', gamma_initializer='one', gamma_regularizer=None, beta_regularizer=None)(cinputs)\n",
    "    cinputs = AveragePooling2D(pool_size=(2, 2), data_format=None, padding=\"same\", strides=(2, 2))(cinputs)\n",
    "    cinputs = Conv2D(256, (2, 2), padding='same', strides=(1, 1), activation='relu', kernel_initializer='lecun_uniform')(cinputs)\n",
    "    cinputs = BatchNormalization(epsilon=1e-05, axis=3, momentum=0.99, weights=None, beta_initializer='zero', gamma_initializer='one', gamma_regularizer=None, beta_regularizer=None)(cinputs)\n",
    "    cinputs = AveragePooling2D(pool_size=(2, 2), data_format=None, padding=\"same\", strides=(2, 2))(cinputs)\n",
    "    f1 = Flatten()(cinputs)\n",
    "    f1 = Dense(units=64, activation='relu', kernel_initializer='lecun_uniform')(f1)\n",
    "    f1 = Dropout(.4)(f1)\n",
    "\n",
    "    inc_output = Dense(units=1, activation='sigmoid', kernel_initializer='lecun_uniform')(f1)\n",
    "    model = Model(inputs, inc_output)\n",
    "    \n",
    "    model.compile(loss='binary_crossentropy',\n",
    "                      optimizer=Nadam(lr=0.00002, beta_1=0.9, beta_2=0.999,\n",
    "                                      epsilon=1e-08, schedule_decay=0.001), metrics=['accuracy'])\n",
    "    \n",
    "    return model"
   ]
  },
  {
   "cell_type": "markdown",
   "metadata": {},
   "source": [
    "### Plotting functions"
   ]
  },
  {
   "cell_type": "code",
   "execution_count": 8,
   "metadata": {
    "collapsed": false,
    "deletable": true,
    "editable": true
   },
   "outputs": [],
   "source": [
    "# plot three RESET events\n",
    "# -- carried over from NEW_kr_diff_mc_train.ipynb\n",
    "def RESET_maps_plot(x_data, nstart, normalize=True):\n",
    "    \"\"\"\n",
    "    Plots a RESET voxel map\n",
    "    x_data is the set of RESET voxel maps to plot\n",
    "    \"\"\"\n",
    "    \n",
    "    fig = plt.figure()\n",
    "    fig.set_figheight(4.0)\n",
    "    fig.set_figwidth(17.5)\n",
    "    \n",
    "    for offset in range(3):\n",
    "    \n",
    "        xarr = x_data[nstart+offset,:,:,0]\n",
    "        \n",
    "        if normalize:\n",
    "            probs = (xarr - np.min(xarr))\n",
    "            probs /= np.max(probs)\n",
    "        else: \n",
    "            probs = xarr\n",
    "\n",
    "        ax = fig.add_subplot(int(\"13{0}\".format(offset+1)))\n",
    "        sp1 = plt.imshow(probs, extent=[-195., 195., -195., 195.], interpolation='none', aspect='auto', origin='lower')\n",
    "        plt.xlabel(\"x (mm)\")\n",
    "        plt.ylabel(\"y (mm)\")\n",
    "        cbp1 = plt.colorbar(sp1);\n",
    "        cbp1.set_label('Normalized Energy')"
   ]
  },
  {
   "cell_type": "code",
   "execution_count": 9,
   "metadata": {
    "collapsed": true
   },
   "outputs": [],
   "source": [
    "# plot three projections of a RESET event\n",
    "# -- carried over from NEW_kr_diff_mc_train.ipynb\n",
    "def RESET_maps_plot_3D(x_data, nstart, normalize=True):\n",
    "    \"\"\"\n",
    "    Plots a RESET voxel map\n",
    "    x_data is the RESET voxel map to plot\n",
    "    \"\"\"\n",
    "    \n",
    "    fig = plt.figure()\n",
    "    fig.set_figheight(4.0)\n",
    "    fig.set_figwidth(17.5)\n",
    "    \n",
    "    # 1 = xy, 2 = xz, 3 = yz\n",
    "    for offset in range(3):\n",
    "    \n",
    "        xdat = x_data[nstart,:,:,:,0]\n",
    "        if(offset == 0):\n",
    "            xarr = np.sum(xdat,axis=2)\n",
    "            xlbl = \"x (mm)\"; ylbl = \"y (mm)\"\n",
    "        elif(offset == 1):\n",
    "            xarr = np.sum(xdat,axis=1)\n",
    "            xlbl = \"x (mm)\"; ylbl = \"z (mm)\"\n",
    "        elif(offset == 2):\n",
    "            xarr = np.sum(xdat,axis=0)\n",
    "            xlbl = \"y (mm)\"; ylbl = \"z (mm)\"\n",
    "        \n",
    "        if normalize:\n",
    "            probs = (xarr - np.min(xarr))\n",
    "            probs /= np.max(probs)\n",
    "        else: \n",
    "            probs = xarr\n",
    "\n",
    "        ax = fig.add_subplot(int(\"13{0}\".format(offset+1)))\n",
    "        sp1 = plt.imshow(probs, extent=[-195., 195., -195., 195.], interpolation='none', aspect='auto', origin='lower')\n",
    "        plt.xlabel(ylbl)\n",
    "        plt.ylabel(xlbl)\n",
    "        cbp1 = plt.colorbar(sp1);\n",
    "        cbp1.set_label('Normalized Energy')"
   ]
  },
  {
   "cell_type": "markdown",
   "metadata": {},
   "source": [
    "## Function to fix image writing in Tensorboard"
   ]
  },
  {
   "cell_type": "code",
   "execution_count": 10,
   "metadata": {
    "collapsed": false
   },
   "outputs": [],
   "source": [
    "def tboard_fix(tbrd, model):\n",
    "        sess = K.get_session()\n",
    "        for layer in model.layers:\n",
    "\n",
    "            for weight in layer.weights:\n",
    "                tf.summary.histogram(weight.name, weight)\n",
    "                shape = weight.get_shape()\n",
    "                if not(len(shape) == 1 and shape[0] == 1):\n",
    "                    w_img = tf.squeeze(weight)\n",
    "                    shape = w_img.get_shape()\n",
    "                    print(\"Shape is {0}\".format(shape))\n",
    "                    if len(shape) > 1 and shape[0] > shape[1]:\n",
    "                        w_img = tf.transpose(w_img)\n",
    "                    if len(shape) == 1:\n",
    "                        w_img = tf.expand_dims(tf.expand_dims(tf.expand_dims(w_img,0), 0), -1)\n",
    "                    if len(shape) == 2:\n",
    "                        w_img = tf.expand_dims(tf.expand_dims(w_img, 0), -1)\n",
    "                    if len(shape) == 3:\n",
    "                        w_img = tf.transpose(w_img, perm=[2, 0, 1])\n",
    "                        w_img = tf.expand_dims(w_img, -1)\n",
    "                    if(len(shape) == 4):\n",
    "                        for ii in range(shape[3]):\n",
    "                            print(\"-- Adding image for filter {0}\".format(ii))\n",
    "                            wi_img = tf.transpose(w_img[:,:,:,ii], perm=[2, 0, 1])\n",
    "                            wi_img = tf.expand_dims(wi_img,-1)\n",
    "                            tf.summary.image(\"{0}_{1}\".format(weight.name,ii),wi_img)\n",
    "                    else:\n",
    "                        tf.summary.image(weight.name, w_img)\n",
    "\n",
    "            if hasattr(layer, 'output'):\n",
    "                tf.summary.histogram('{}_out'.format(layer.name),\n",
    "                                     layer.output)"
   ]
  },
  {
   "cell_type": "markdown",
   "metadata": {
    "deletable": true,
    "editable": true
   },
   "source": [
    "## Load in the data"
   ]
  },
  {
   "cell_type": "code",
   "execution_count": null,
   "metadata": {
    "collapsed": false,
    "deletable": true,
    "editable": true
   },
   "outputs": [
    {
     "name": "stdout",
     "output_type": "stream",
     "text": [
      "Read 50000 signal events\n",
      "Finished reading data: 97000 training events, 1000 validation events, and 2000 test events\n"
     ]
    }
   ],
   "source": [
    "# read in the training data\n",
    "x_train, y_train, x_val, y_val, x_test, y_test = read_data(data_fname_si, data_fname_bg, read3d=True)"
   ]
  },
  {
   "cell_type": "code",
   "execution_count": 12,
   "metadata": {
    "collapsed": false,
    "deletable": true,
    "editable": true
   },
   "outputs": [
    {
     "data": {
      "image/png": "[encoded data removed]",
      "text/plain": [
       "<matplotlib.figure.Figure at 0x7f862d24db38>"
      ]
     },
     "metadata": {},
     "output_type": "display_data"
    }
   ],
   "source": [
    "# plot one slice of one event\n",
    "#RESET_maps_plot(x_train,5)\n",
    "RESET_maps_plot_3D(x_train,4)"
   ]
  },
  {
   "cell_type": "markdown",
   "metadata": {
    "deletable": true,
    "editable": true
   },
   "source": [
    "## Define and train the DNN"
   ]
  },
  {
   "cell_type": "code",
   "execution_count": 15,
   "metadata": {
    "collapsed": false,
    "deletable": true,
    "editable": true
   },
   "outputs": [
    {
     "name": "stdout",
     "output_type": "stream",
     "text": [
      "_________________________________________________________________\n",
      "Layer (type)                 Output Shape              Param #   \n",
      "=================================================================\n",
      "input_1 (InputLayer)         (None, 40, 40, 40, 1)     0         \n",
      "_________________________________________________________________\n",
      "conv3d_1 (Conv3D)            (None, 20, 20, 20, 32)    4032      \n",
      "_________________________________________________________________\n",
      "average_pooling3d_1 (Average (None, 10, 10, 10, 32)    0         \n",
      "_________________________________________________________________\n",
      "batch_normalization_1 (Batch (None, 10, 10, 10, 32)    128       \n",
      "_________________________________________________________________\n",
      "conv3d_2 (Conv3D)            (None, 10, 10, 10, 64)    55360     \n",
      "_________________________________________________________________\n",
      "batch_normalization_2 (Batch (None, 10, 10, 10, 64)    256       \n",
      "_________________________________________________________________\n",
      "average_pooling3d_2 (Average (None, 5, 5, 5, 64)       0         \n",
      "_________________________________________________________________\n",
      "conv3d_3 (Conv3D)            (None, 5, 5, 5, 128)      65664     \n",
      "_________________________________________________________________\n",
      "batch_normalization_3 (Batch (None, 5, 5, 5, 128)      512       \n",
      "_________________________________________________________________\n",
      "average_pooling3d_3 (Average (None, 3, 3, 3, 128)      0         \n",
      "_________________________________________________________________\n",
      "flatten_1 (Flatten)          (None, 3456)              0         \n",
      "_________________________________________________________________\n",
      "dense_1 (Dense)              (None, 16)                55312     \n",
      "_________________________________________________________________\n",
      "dropout_1 (Dropout)          (None, 16)                0         \n",
      "_________________________________________________________________\n",
      "dense_2 (Dense)              (None, 1)                 17        \n",
      "=================================================================\n",
      "Total params: 181,281.0\n",
      "Trainable params: 180,833.0\n",
      "Non-trainable params: 448.0\n",
      "_________________________________________________________________\n"
     ]
    }
   ],
   "source": [
    "# set ld_model to true and specify the file to load in a previously defined/trained model\n",
    "load_weights = True\n",
    "mfile = 'models/weights_reset_V10_3D.h5'\n",
    "\n",
    "if(load_weights):\n",
    "    model = load_model(mfile)\n",
    "else:\n",
    "    \n",
    "    # otherwise define the model\n",
    "    #inputs = Input(shape=(xdim, ydim, 1))\n",
    "    inputs = Input(shape=(xdim, ydim, zdim, 1))\n",
    "    model = model_CNN_3D(inputs)\n",
    "    \n",
    "    # define callbacks (actions to be taken after each epoch of training)\n",
    "    file_lbl = \"{epoch:02d}-{loss:.4f}\"\n",
    "    filepath=\"weights-{0}.h5\".format(file_lbl)\n",
    "    checkpoint = callbacks.ModelCheckpoint(filepath, monitor='loss', verbose=0, save_best_only=True, mode='min')\n",
    "    tboard = callbacks.TensorBoard(log_dir='./logs', histogram_freq=1, write_graph=True, write_images=False)\n",
    "    #tboard_fix(tboard,model)\n",
    "    lcallbacks = [checkpoint, tboard]            \n",
    "model.summary()"
   ]
  },
  {
   "cell_type": "code",
   "execution_count": null,
   "metadata": {
    "collapsed": false,
    "deletable": true,
    "editable": true,
    "scrolled": false
   },
   "outputs": [
    {
     "name": "stdout",
     "output_type": "stream",
     "text": [
      "Train on 97000 samples, validate on 1000 samples\n",
      "INFO:tensorflow:Summary name conv3d_1/kernel:0 is illegal; using conv3d_1/kernel_0 instead.\n",
      "INFO:tensorflow:Summary name conv3d_1/bias:0 is illegal; using conv3d_1/bias_0 instead.\n",
      "INFO:tensorflow:Summary name batch_normalization_1/gamma:0 is illegal; using batch_normalization_1/gamma_0 instead.\n",
      "INFO:tensorflow:Summary name batch_normalization_1/beta:0 is illegal; using batch_normalization_1/beta_0 instead.\n",
      "INFO:tensorflow:Summary name batch_normalization_1/moving_mean:0 is illegal; using batch_normalization_1/moving_mean_0 instead.\n",
      "INFO:tensorflow:Summary name batch_normalization_1/moving_variance:0 is illegal; using batch_normalization_1/moving_variance_0 instead.\n",
      "INFO:tensorflow:Summary name conv3d_2/kernel:0 is illegal; using conv3d_2/kernel_0 instead.\n",
      "INFO:tensorflow:Summary name conv3d_2/bias:0 is illegal; using conv3d_2/bias_0 instead.\n",
      "INFO:tensorflow:Summary name batch_normalization_2/gamma:0 is illegal; using batch_normalization_2/gamma_0 instead.\n",
      "INFO:tensorflow:Summary name batch_normalization_2/beta:0 is illegal; using batch_normalization_2/beta_0 instead.\n",
      "INFO:tensorflow:Summary name batch_normalization_2/moving_mean:0 is illegal; using batch_normalization_2/moving_mean_0 instead.\n",
      "INFO:tensorflow:Summary name batch_normalization_2/moving_variance:0 is illegal; using batch_normalization_2/moving_variance_0 instead.\n",
      "INFO:tensorflow:Summary name conv3d_3/kernel:0 is illegal; using conv3d_3/kernel_0 instead.\n",
      "INFO:tensorflow:Summary name conv3d_3/bias:0 is illegal; using conv3d_3/bias_0 instead.\n",
      "INFO:tensorflow:Summary name batch_normalization_3/gamma:0 is illegal; using batch_normalization_3/gamma_0 instead.\n",
      "INFO:tensorflow:Summary name batch_normalization_3/beta:0 is illegal; using batch_normalization_3/beta_0 instead.\n",
      "INFO:tensorflow:Summary name batch_normalization_3/moving_mean:0 is illegal; using batch_normalization_3/moving_mean_0 instead.\n",
      "INFO:tensorflow:Summary name batch_normalization_3/moving_variance:0 is illegal; using batch_normalization_3/moving_variance_0 instead.\n",
      "INFO:tensorflow:Summary name dense_1/kernel:0 is illegal; using dense_1/kernel_0 instead.\n",
      "INFO:tensorflow:Summary name dense_1/bias:0 is illegal; using dense_1/bias_0 instead.\n",
      "INFO:tensorflow:Summary name dense_2/kernel:0 is illegal; using dense_2/kernel_0 instead.\n",
      "INFO:tensorflow:Summary name dense_2/bias:0 is illegal; using dense_2/bias_0 instead.\n",
      "Epoch 1/200\n",
      "97000/97000 [==============================] - 312s - loss: 0.6752 - acc: 0.5645 - val_loss: 0.6401 - val_acc: 0.6510\n",
      "Epoch 2/200\n",
      "97000/97000 [==============================] - 158s - loss: 0.6041 - acc: 0.6783 - val_loss: 0.6058 - val_acc: 0.6760\n",
      "Epoch 4/200\n",
      "97000/97000 [==============================] - 160s - loss: 0.5892 - acc: 0.6946 - val_loss: 0.6708 - val_acc: 0.5900\n",
      "Epoch 5/200\n",
      "97000/97000 [==============================] - 159s - loss: 0.5767 - acc: 0.7063 - val_loss: 0.7214 - val_acc: 0.5920\n",
      "Epoch 6/200\n",
      "97000/97000 [==============================] - 159s - loss: 0.5639 - acc: 0.7163 - val_loss: 0.5780 - val_acc: 0.7000\n",
      "Epoch 7/200\n",
      "97000/97000 [==============================] - 160s - loss: 0.5555 - acc: 0.7227 - val_loss: 0.7109 - val_acc: 0.6200\n",
      "Epoch 8/200\n",
      "97000/97000 [==============================] - 160s - loss: 0.5469 - acc: 0.7290 - val_loss: 0.5813 - val_acc: 0.6920\n",
      "Epoch 9/200\n",
      "97000/97000 [==============================] - 153s - loss: 0.5394 - acc: 0.7342 - val_loss: 0.9783 - val_acc: 0.5000\n",
      "Epoch 10/200\n",
      "97000/97000 [==============================] - 154s - loss: 0.5319 - acc: 0.7386 - val_loss: 1.5590 - val_acc: 0.5000\n",
      "Epoch 11/200\n",
      "97000/97000 [==============================] - 154s - loss: 0.5252 - acc: 0.7449 - val_loss: 0.5436 - val_acc: 0.7310\n",
      "Epoch 12/200\n",
      "97000/97000 [==============================] - 153s - loss: 0.5179 - acc: 0.7500 - val_loss: 0.5389 - val_acc: 0.7360\n",
      "Epoch 13/200\n",
      "97000/97000 [==============================] - 155s - loss: 0.5115 - acc: 0.7529 - val_loss: 0.5329 - val_acc: 0.7470\n",
      "Epoch 14/200\n",
      "97000/97000 [==============================] - 150s - loss: 0.5055 - acc: 0.7579 - val_loss: 1.1488 - val_acc: 0.5280\n",
      "Epoch 15/200\n",
      "97000/97000 [==============================] - 155s - loss: 0.5001 - acc: 0.7607 - val_loss: 0.5290 - val_acc: 0.7410\n",
      "Epoch 16/200\n",
      "97000/97000 [==============================] - 154s - loss: 0.4946 - acc: 0.7638 - val_loss: 0.6374 - val_acc: 0.6300\n",
      "Epoch 17/200\n",
      "97000/97000 [==============================] - 151s - loss: 0.4901 - acc: 0.7676 - val_loss: 1.8632 - val_acc: 0.5000\n",
      "Epoch 18/200\n",
      "97000/97000 [==============================] - 152s - loss: 0.4850 - acc: 0.7699 - val_loss: 0.8766 - val_acc: 0.6110\n",
      "Epoch 19/200\n",
      "97000/97000 [==============================] - 154s - loss: 0.4808 - acc: 0.7734 - val_loss: 1.5460 - val_acc: 0.5000\n",
      "Epoch 20/200\n",
      "97000/97000 [==============================] - 150s - loss: 0.4770 - acc: 0.7770 - val_loss: 4.0716 - val_acc: 0.5000\n",
      "Epoch 21/200\n",
      "97000/97000 [==============================] - 154s - loss: 0.4736 - acc: 0.7772 - val_loss: 0.5279 - val_acc: 0.7460\n",
      "Epoch 22/200\n",
      "97000/97000 [==============================] - 154s - loss: 0.4688 - acc: 0.7797 - val_loss: 1.2726 - val_acc: 0.5260\n",
      "Epoch 23/200\n",
      "97000/97000 [==============================] - 155s - loss: 0.4648 - acc: 0.7828 - val_loss: 1.5243 - val_acc: 0.5000\n",
      "Epoch 24/200\n",
      "97000/97000 [==============================] - 153s - loss: 0.4621 - acc: 0.7840 - val_loss: 1.2140 - val_acc: 0.5490\n",
      "Epoch 25/200\n",
      "97000/97000 [==============================] - 151s - loss: 0.4568 - acc: 0.7878 - val_loss: 0.5617 - val_acc: 0.7300\n",
      "Epoch 26/200\n",
      "97000/97000 [==============================] - 156s - loss: 0.4541 - acc: 0.7891 - val_loss: 0.7073 - val_acc: 0.6000\n",
      "Epoch 27/200\n",
      "97000/97000 [==============================] - 153s - loss: 0.4511 - acc: 0.7905 - val_loss: 1.8869 - val_acc: 0.5010\n",
      "Epoch 28/200\n",
      "97000/97000 [==============================] - 155s - loss: 0.4470 - acc: 0.7922 - val_loss: 2.3491 - val_acc: 0.4990\n",
      "Epoch 29/200\n",
      "97000/97000 [==============================] - 156s - loss: 0.4427 - acc: 0.7951 - val_loss: 1.5716 - val_acc: 0.5210\n",
      "Epoch 30/200\n",
      "97000/97000 [==============================] - 158s - loss: 0.4402 - acc: 0.7958 - val_loss: 0.6511 - val_acc: 0.7140\n",
      "Epoch 31/200\n",
      "97000/97000 [==============================] - 156s - loss: 0.4361 - acc: 0.7996 - val_loss: 1.1805 - val_acc: 0.5660\n",
      "Epoch 32/200\n",
      "97000/97000 [==============================] - 156s - loss: 0.4334 - acc: 0.7993 - val_loss: 1.1725 - val_acc: 0.5090\n",
      "Epoch 33/200\n",
      "97000/97000 [==============================] - 155s - loss: 0.4290 - acc: 0.8016 - val_loss: 1.4432 - val_acc: 0.5160\n",
      "Epoch 34/200\n",
      "97000/97000 [==============================] - 156s - loss: 0.4253 - acc: 0.8043 - val_loss: 0.7606 - val_acc: 0.6760\n",
      "Epoch 35/200\n",
      "97000/97000 [==============================] - 155s - loss: 0.4228 - acc: 0.8059 - val_loss: 0.6910 - val_acc: 0.6470\n",
      "Epoch 36/200\n",
      "97000/97000 [==============================] - 156s - loss: 0.4187 - acc: 0.8062 - val_loss: 1.5652 - val_acc: 0.5000\n",
      "Epoch 37/200\n",
      "97000/97000 [==============================] - 156s - loss: 0.4136 - acc: 0.8092 - val_loss: 2.0851 - val_acc: 0.5020\n",
      "Epoch 38/200\n",
      "97000/97000 [==============================] - 154s - loss: 0.4122 - acc: 0.8098 - val_loss: 1.0081 - val_acc: 0.5480\n",
      "Epoch 39/200\n",
      "97000/97000 [==============================] - 157s - loss: 0.4085 - acc: 0.8131 - val_loss: 0.9005 - val_acc: 0.6570\n",
      "Epoch 40/200\n",
      "97000/97000 [==============================] - 158s - loss: 0.4061 - acc: 0.8145 - val_loss: 0.8877 - val_acc: 0.6510\n",
      "Epoch 41/200\n",
      "97000/97000 [==============================] - 158s - loss: 0.4030 - acc: 0.8158 - val_loss: 1.1646 - val_acc: 0.6050\n",
      "Epoch 42/200\n",
      "97000/97000 [==============================] - 156s - loss: 0.3997 - acc: 0.8178 - val_loss: 7.7098 - val_acc: 0.5000\n",
      "Epoch 43/200\n",
      "97000/97000 [==============================] - 157s - loss: 0.3959 - acc: 0.8182 - val_loss: 1.1856 - val_acc: 0.5960\n",
      "Epoch 44/200\n",
      "97000/97000 [==============================] - 156s - loss: 0.3928 - acc: 0.8202 - val_loss: 0.5884 - val_acc: 0.7460\n",
      "Epoch 45/200\n",
      "97000/97000 [==============================] - 156s - loss: 0.3884 - acc: 0.8236 - val_loss: 0.8585 - val_acc: 0.6710\n",
      "Epoch 46/200\n",
      "49860/97000 [==============>...............] - ETA: 71s - loss: 0.3842 - acc: 0.8250"
     ]
    },
    {
     "ename": "KeyboardInterrupt",
     "evalue": "",
     "output_type": "error",
     "traceback": [
      "\u001b[0;31m---------------------------------------------------------------------------\u001b[0m",
      "\u001b[0;31mKeyboardInterrupt\u001b[0m                         Traceback (most recent call last)",
      "\u001b[0;32m<ipython-input-14-30126e6a574a>\u001b[0m in \u001b[0;36m<module>\u001b[0;34m()\u001b[0m\n\u001b[1;32m      1\u001b[0m \u001b[0;31m# train the model\u001b[0m\u001b[0;34m\u001b[0m\u001b[0;34m\u001b[0m\u001b[0m\n\u001b[0;32m----> 2\u001b[0;31m \u001b[0mhist\u001b[0m \u001b[0;34m=\u001b[0m \u001b[0mmodel\u001b[0m\u001b[0;34m.\u001b[0m\u001b[0mfit\u001b[0m\u001b[0;34m(\u001b[0m\u001b[0mx_train\u001b[0m\u001b[0;34m,\u001b[0m \u001b[0my_train\u001b[0m\u001b[0;34m,\u001b[0m \u001b[0mshuffle\u001b[0m\u001b[0;34m=\u001b[0m\u001b[0;32mTrue\u001b[0m\u001b[0;34m,\u001b[0m \u001b[0mepochs\u001b[0m\u001b[0;34m=\u001b[0m\u001b[0;36m200\u001b[0m\u001b[0;34m,\u001b[0m \u001b[0mbatch_size\u001b[0m\u001b[0;34m=\u001b[0m\u001b[0;36m20\u001b[0m\u001b[0;34m,\u001b[0m \u001b[0mverbose\u001b[0m\u001b[0;34m=\u001b[0m\u001b[0;36m1\u001b[0m\u001b[0;34m,\u001b[0m \u001b[0mvalidation_data\u001b[0m\u001b[0;34m=\u001b[0m\u001b[0;34m(\u001b[0m\u001b[0mx_val\u001b[0m\u001b[0;34m,\u001b[0m\u001b[0my_val\u001b[0m\u001b[0;34m)\u001b[0m\u001b[0;34m,\u001b[0m \u001b[0mcallbacks\u001b[0m\u001b[0;34m=\u001b[0m\u001b[0mlcallbacks\u001b[0m\u001b[0;34m)\u001b[0m\u001b[0;34m\u001b[0m\u001b[0m\n\u001b[0m",
      "\u001b[0;32m/software/anaconda3/lib/python3.5/site-packages/keras/engine/training.py\u001b[0m in \u001b[0;36mfit\u001b[0;34m(self, x, y, batch_size, epochs, verbose, callbacks, validation_split, validation_data, shuffle, class_weight, sample_weight, initial_epoch, **kwargs)\u001b[0m\n\u001b[1;32m   1483\u001b[0m                               \u001b[0mval_f\u001b[0m\u001b[0;34m=\u001b[0m\u001b[0mval_f\u001b[0m\u001b[0;34m,\u001b[0m \u001b[0mval_ins\u001b[0m\u001b[0;34m=\u001b[0m\u001b[0mval_ins\u001b[0m\u001b[0;34m,\u001b[0m \u001b[0mshuffle\u001b[0m\u001b[0;34m=\u001b[0m\u001b[0mshuffle\u001b[0m\u001b[0;34m,\u001b[0m\u001b[0;34m\u001b[0m\u001b[0m\n\u001b[1;32m   1484\u001b[0m                               \u001b[0mcallback_metrics\u001b[0m\u001b[0;34m=\u001b[0m\u001b[0mcallback_metrics\u001b[0m\u001b[0;34m,\u001b[0m\u001b[0;34m\u001b[0m\u001b[0m\n\u001b[0;32m-> 1485\u001b[0;31m                               initial_epoch=initial_epoch)\n\u001b[0m\u001b[1;32m   1486\u001b[0m \u001b[0;34m\u001b[0m\u001b[0m\n\u001b[1;32m   1487\u001b[0m     \u001b[0;32mdef\u001b[0m \u001b[0mevaluate\u001b[0m\u001b[0;34m(\u001b[0m\u001b[0mself\u001b[0m\u001b[0;34m,\u001b[0m \u001b[0mx\u001b[0m\u001b[0;34m,\u001b[0m \u001b[0my\u001b[0m\u001b[0;34m,\u001b[0m \u001b[0mbatch_size\u001b[0m\u001b[0;34m=\u001b[0m\u001b[0;36m32\u001b[0m\u001b[0;34m,\u001b[0m \u001b[0mverbose\u001b[0m\u001b[0;34m=\u001b[0m\u001b[0;36m1\u001b[0m\u001b[0;34m,\u001b[0m \u001b[0msample_weight\u001b[0m\u001b[0;34m=\u001b[0m\u001b[0;32mNone\u001b[0m\u001b[0;34m)\u001b[0m\u001b[0;34m:\u001b[0m\u001b[0;34m\u001b[0m\u001b[0m\n",
      "\u001b[0;32m/software/anaconda3/lib/python3.5/site-packages/keras/engine/training.py\u001b[0m in \u001b[0;36m_fit_loop\u001b[0;34m(self, f, ins, out_labels, batch_size, epochs, verbose, callbacks, val_f, val_ins, shuffle, callback_metrics, initial_epoch)\u001b[0m\n\u001b[1;32m   1138\u001b[0m                 \u001b[0mbatch_logs\u001b[0m\u001b[0;34m[\u001b[0m\u001b[0;34m'size'\u001b[0m\u001b[0;34m]\u001b[0m \u001b[0;34m=\u001b[0m \u001b[0mlen\u001b[0m\u001b[0;34m(\u001b[0m\u001b[0mbatch_ids\u001b[0m\u001b[0;34m)\u001b[0m\u001b[0;34m\u001b[0m\u001b[0m\n\u001b[1;32m   1139\u001b[0m                 \u001b[0mcallbacks\u001b[0m\u001b[0;34m.\u001b[0m\u001b[0mon_batch_begin\u001b[0m\u001b[0;34m(\u001b[0m\u001b[0mbatch_index\u001b[0m\u001b[0;34m,\u001b[0m \u001b[0mbatch_logs\u001b[0m\u001b[0;34m)\u001b[0m\u001b[0;34m\u001b[0m\u001b[0m\n\u001b[0;32m-> 1140\u001b[0;31m                 \u001b[0mouts\u001b[0m \u001b[0;34m=\u001b[0m \u001b[0mf\u001b[0m\u001b[0;34m(\u001b[0m\u001b[0mins_batch\u001b[0m\u001b[0;34m)\u001b[0m\u001b[0;34m\u001b[0m\u001b[0m\n\u001b[0m\u001b[1;32m   1141\u001b[0m                 \u001b[0;32mif\u001b[0m \u001b[0;32mnot\u001b[0m \u001b[0misinstance\u001b[0m\u001b[0;34m(\u001b[0m\u001b[0mouts\u001b[0m\u001b[0;34m,\u001b[0m \u001b[0mlist\u001b[0m\u001b[0;34m)\u001b[0m\u001b[0;34m:\u001b[0m\u001b[0;34m\u001b[0m\u001b[0m\n\u001b[1;32m   1142\u001b[0m                     \u001b[0mouts\u001b[0m \u001b[0;34m=\u001b[0m \u001b[0;34m[\u001b[0m\u001b[0mouts\u001b[0m\u001b[0;34m]\u001b[0m\u001b[0;34m\u001b[0m\u001b[0m\n",
      "\u001b[0;32m/software/anaconda3/lib/python3.5/site-packages/keras/backend/tensorflow_backend.py\u001b[0m in \u001b[0;36m__call__\u001b[0;34m(self, inputs)\u001b[0m\n\u001b[1;32m   2073\u001b[0m         \u001b[0msession\u001b[0m \u001b[0;34m=\u001b[0m \u001b[0mget_session\u001b[0m\u001b[0;34m(\u001b[0m\u001b[0;34m)\u001b[0m\u001b[0;34m\u001b[0m\u001b[0m\n\u001b[1;32m   2074\u001b[0m         updated = session.run(self.outputs + [self.updates_op],\n\u001b[0;32m-> 2075\u001b[0;31m                               feed_dict=feed_dict)\n\u001b[0m\u001b[1;32m   2076\u001b[0m         \u001b[0;32mreturn\u001b[0m \u001b[0mupdated\u001b[0m\u001b[0;34m[\u001b[0m\u001b[0;34m:\u001b[0m\u001b[0mlen\u001b[0m\u001b[0;34m(\u001b[0m\u001b[0mself\u001b[0m\u001b[0;34m.\u001b[0m\u001b[0moutputs\u001b[0m\u001b[0;34m)\u001b[0m\u001b[0;34m]\u001b[0m\u001b[0;34m\u001b[0m\u001b[0m\n\u001b[1;32m   2077\u001b[0m \u001b[0;34m\u001b[0m\u001b[0m\n",
      "\u001b[0;32m/software/anaconda3/lib/python3.5/site-packages/tensorflow/python/client/session.py\u001b[0m in \u001b[0;36mrun\u001b[0;34m(self, fetches, feed_dict, options, run_metadata)\u001b[0m\n\u001b[1;32m    776\u001b[0m     \u001b[0;32mtry\u001b[0m\u001b[0;34m:\u001b[0m\u001b[0;34m\u001b[0m\u001b[0m\n\u001b[1;32m    777\u001b[0m       result = self._run(None, fetches, feed_dict, options_ptr,\n\u001b[0;32m--> 778\u001b[0;31m                          run_metadata_ptr)\n\u001b[0m\u001b[1;32m    779\u001b[0m       \u001b[0;32mif\u001b[0m \u001b[0mrun_metadata\u001b[0m\u001b[0;34m:\u001b[0m\u001b[0;34m\u001b[0m\u001b[0m\n\u001b[1;32m    780\u001b[0m         \u001b[0mproto_data\u001b[0m \u001b[0;34m=\u001b[0m \u001b[0mtf_session\u001b[0m\u001b[0;34m.\u001b[0m\u001b[0mTF_GetBuffer\u001b[0m\u001b[0;34m(\u001b[0m\u001b[0mrun_metadata_ptr\u001b[0m\u001b[0;34m)\u001b[0m\u001b[0;34m\u001b[0m\u001b[0m\n",
      "\u001b[0;32m/software/anaconda3/lib/python3.5/site-packages/tensorflow/python/client/session.py\u001b[0m in \u001b[0;36m_run\u001b[0;34m(self, handle, fetches, feed_dict, options, run_metadata)\u001b[0m\n\u001b[1;32m    980\u001b[0m     \u001b[0;32mif\u001b[0m \u001b[0mfinal_fetches\u001b[0m \u001b[0;32mor\u001b[0m \u001b[0mfinal_targets\u001b[0m\u001b[0;34m:\u001b[0m\u001b[0;34m\u001b[0m\u001b[0m\n\u001b[1;32m    981\u001b[0m       results = self._do_run(handle, final_targets, final_fetches,\n\u001b[0;32m--> 982\u001b[0;31m                              feed_dict_string, options, run_metadata)\n\u001b[0m\u001b[1;32m    983\u001b[0m     \u001b[0;32melse\u001b[0m\u001b[0;34m:\u001b[0m\u001b[0;34m\u001b[0m\u001b[0m\n\u001b[1;32m    984\u001b[0m       \u001b[0mresults\u001b[0m \u001b[0;34m=\u001b[0m \u001b[0;34m[\u001b[0m\u001b[0;34m]\u001b[0m\u001b[0;34m\u001b[0m\u001b[0m\n",
      "\u001b[0;32m/software/anaconda3/lib/python3.5/site-packages/tensorflow/python/client/session.py\u001b[0m in \u001b[0;36m_do_run\u001b[0;34m(self, handle, target_list, fetch_list, feed_dict, options, run_metadata)\u001b[0m\n\u001b[1;32m   1030\u001b[0m     \u001b[0;32mif\u001b[0m \u001b[0mhandle\u001b[0m \u001b[0;32mis\u001b[0m \u001b[0;32mNone\u001b[0m\u001b[0;34m:\u001b[0m\u001b[0;34m\u001b[0m\u001b[0m\n\u001b[1;32m   1031\u001b[0m       return self._do_call(_run_fn, self._session, feed_dict, fetch_list,\n\u001b[0;32m-> 1032\u001b[0;31m                            target_list, options, run_metadata)\n\u001b[0m\u001b[1;32m   1033\u001b[0m     \u001b[0;32melse\u001b[0m\u001b[0;34m:\u001b[0m\u001b[0;34m\u001b[0m\u001b[0m\n\u001b[1;32m   1034\u001b[0m       return self._do_call(_prun_fn, self._session, handle, feed_dict,\n",
      "\u001b[0;32m/software/anaconda3/lib/python3.5/site-packages/tensorflow/python/client/session.py\u001b[0m in \u001b[0;36m_do_call\u001b[0;34m(self, fn, *args)\u001b[0m\n\u001b[1;32m   1037\u001b[0m   \u001b[0;32mdef\u001b[0m \u001b[0m_do_call\u001b[0m\u001b[0;34m(\u001b[0m\u001b[0mself\u001b[0m\u001b[0;34m,\u001b[0m \u001b[0mfn\u001b[0m\u001b[0;34m,\u001b[0m \u001b[0;34m*\u001b[0m\u001b[0margs\u001b[0m\u001b[0;34m)\u001b[0m\u001b[0;34m:\u001b[0m\u001b[0;34m\u001b[0m\u001b[0m\n\u001b[1;32m   1038\u001b[0m     \u001b[0;32mtry\u001b[0m\u001b[0;34m:\u001b[0m\u001b[0;34m\u001b[0m\u001b[0m\n\u001b[0;32m-> 1039\u001b[0;31m       \u001b[0;32mreturn\u001b[0m \u001b[0mfn\u001b[0m\u001b[0;34m(\u001b[0m\u001b[0;34m*\u001b[0m\u001b[0margs\u001b[0m\u001b[0;34m)\u001b[0m\u001b[0;34m\u001b[0m\u001b[0m\n\u001b[0m\u001b[1;32m   1040\u001b[0m     \u001b[0;32mexcept\u001b[0m \u001b[0merrors\u001b[0m\u001b[0;34m.\u001b[0m\u001b[0mOpError\u001b[0m \u001b[0;32mas\u001b[0m \u001b[0me\u001b[0m\u001b[0;34m:\u001b[0m\u001b[0;34m\u001b[0m\u001b[0m\n\u001b[1;32m   1041\u001b[0m       \u001b[0mmessage\u001b[0m \u001b[0;34m=\u001b[0m \u001b[0mcompat\u001b[0m\u001b[0;34m.\u001b[0m\u001b[0mas_text\u001b[0m\u001b[0;34m(\u001b[0m\u001b[0me\u001b[0m\u001b[0;34m.\u001b[0m\u001b[0mmessage\u001b[0m\u001b[0;34m)\u001b[0m\u001b[0;34m\u001b[0m\u001b[0m\n",
      "\u001b[0;32m/software/anaconda3/lib/python3.5/site-packages/tensorflow/python/client/session.py\u001b[0m in \u001b[0;36m_run_fn\u001b[0;34m(session, feed_dict, fetch_list, target_list, options, run_metadata)\u001b[0m\n\u001b[1;32m   1019\u001b[0m         return tf_session.TF_Run(session, options,\n\u001b[1;32m   1020\u001b[0m                                  \u001b[0mfeed_dict\u001b[0m\u001b[0;34m,\u001b[0m \u001b[0mfetch_list\u001b[0m\u001b[0;34m,\u001b[0m \u001b[0mtarget_list\u001b[0m\u001b[0;34m,\u001b[0m\u001b[0;34m\u001b[0m\u001b[0m\n\u001b[0;32m-> 1021\u001b[0;31m                                  status, run_metadata)\n\u001b[0m\u001b[1;32m   1022\u001b[0m \u001b[0;34m\u001b[0m\u001b[0m\n\u001b[1;32m   1023\u001b[0m     \u001b[0;32mdef\u001b[0m \u001b[0m_prun_fn\u001b[0m\u001b[0;34m(\u001b[0m\u001b[0msession\u001b[0m\u001b[0;34m,\u001b[0m \u001b[0mhandle\u001b[0m\u001b[0;34m,\u001b[0m \u001b[0mfeed_dict\u001b[0m\u001b[0;34m,\u001b[0m \u001b[0mfetch_list\u001b[0m\u001b[0;34m)\u001b[0m\u001b[0;34m:\u001b[0m\u001b[0;34m\u001b[0m\u001b[0m\n",
      "\u001b[0;31mKeyboardInterrupt\u001b[0m: "
     ]
    }
   ],
   "source": [
    "# train the model\n",
    "hist = model.fit(x_train, y_train, shuffle=True, epochs=200, batch_size=20, verbose=1, validation_data=(x_val,y_val), callbacks=lcallbacks)"
   ]
  },
  {
   "cell_type": "markdown",
   "metadata": {
    "deletable": true,
    "editable": true
   },
   "source": [
    "## Test the trained model"
   ]
  },
  {
   "cell_type": "code",
   "execution_count": 16,
   "metadata": {
    "collapsed": false,
    "deletable": true,
    "editable": true
   },
   "outputs": [
    {
     "name": "stdout",
     "output_type": "stream",
     "text": [
      "1952/2000 [============================>.] - ETA: 0s[0.48308369112014771, 0.76249999999999996]\n"
     ]
    }
   ],
   "source": [
    "# compute the predictions\n",
    "loss_and_metrics = model.evaluate(x_test, y_test);\n",
    "y_pred = model.predict(x_test, batch_size=100, verbose=0)\n",
    "print(loss_and_metrics)"
   ]
  },
  {
   "cell_type": "code",
   "execution_count": 17,
   "metadata": {
    "collapsed": false
   },
   "outputs": [
    {
     "name": "stdout",
     "output_type": "stream",
     "text": [
      "-- Calculating points...\n",
      "-- Saving results...\n"
     ]
    }
   ],
   "source": [
    "# create lists of values for signal vs. background curve\n",
    "npoints = 100\n",
    "fname_svsb = \"plt/reset_V10_3D.h5\"\n",
    "bg_rej = []; si_eff = []\n",
    "print(\"-- Calculating points...\")\n",
    "for thh in np.arange(0,1,1./npoints):\n",
    "    nts = 0; ntb = 0\n",
    "    ncs = 0; ncb = 0\n",
    "    for ye,yp in zip(y_test,y_pred):\n",
    "        if(ye == 0):\n",
    "            ntb += 1  # add one background event\n",
    "            if(yp < thh):\n",
    "                ncb += 1  # add one correctly predicted background event\n",
    "\n",
    "        if(ye == 1):\n",
    "            nts += 1  # add one signal event\n",
    "            if(yp >= thh):\n",
    "                ncs += 1  # add one correctly predicted signal event\n",
    "                \n",
    "    si_eff.append(1.0*ncs/nts)\n",
    "    bg_rej.append(1.0*ncb/ntb)\n",
    "    #print(\"-- {0} of {1} ({2}%) correct background events; {3} of {4} ({5}%) correct signal events\".format(ncb,ntb,1.0*ncb/ntb*100,ncs,nts,1.0*ncs/nts*100))\n",
    "\n",
    "# save the results to file\n",
    "print(\"-- Saving results...\")\n",
    "si_eff = np.array(si_eff); bg_rej = np.array(bg_rej)\n",
    "f = tb.open_file(fname_svsb, 'w')\n",
    "filters = tb.Filters(complib='blosc', complevel=9, shuffle=False)\n",
    "\n",
    "atom    = tb.Atom.from_dtype(si_eff.dtype)\n",
    "sarr    = f.create_earray(f.root, 'si_eff', atom, (0, npoints), filters=filters)\n",
    "sarr.append([si_eff])\n",
    "\n",
    "atom    = tb.Atom.from_dtype(bg_rej.dtype)\n",
    "sarr    = f.create_earray(f.root, 'bg_rej', atom, (0, npoints), filters=filters)\n",
    "sarr.append([bg_rej])\n",
    "\n",
    "f.close()"
   ]
  },
  {
   "cell_type": "code",
   "execution_count": 18,
   "metadata": {
    "collapsed": false,
    "deletable": true,
    "editable": true
   },
   "outputs": [
    {
     "data": {
      "text/plain": [
       "<matplotlib.legend.Legend at 0x7f8564b4bf98>"
      ]
     },
     "execution_count": 18,
     "metadata": {},
     "output_type": "execute_result"
    },
    {
     "data": {
      "image/png": "[encoded data removed]",
      "text/plain": [
       "<matplotlib.figure.Figure at 0x7f860a0b72e8>"
      ]
     },
     "metadata": {},
     "output_type": "display_data"
    }
   ],
   "source": [
    "# plot signal vs. background curves\n",
    "#fnames = [\"plt/reset_V10_iter100.h5\", \"plt/reset_V10_iter500.h5\", \"plt/reset_V10_iter1000.h5\", \"plt/reset_V10_2D.h5\", \"plt/classification_V10_3Dconv.h5\"]\n",
    "#labels = [\"RESET V10, iter100\", \"RESET V10, iter500\", \"RESET V10, iter1000\", \"RESET V10, latest\", \"SiPMs only (3D), V10\"]\n",
    "#colors = [\"green\", \"black\", \"brown\", \"blue\", \"orange\"]\n",
    "fnames = [\"plt/reset_V10_iter100.h5\", \"plt/reset_V10_2D.h5\", \"plt/reset_V10_3D.h5\", \"plt/classification_V10_3Dconv.h5\"]\n",
    "labels = [\"RESET V10, iter100\", \"RESET V10, 2D\", \"RESET V10, 3D\", \"SiPMs only (3D), V10\"]\n",
    "colors = [\"green\", \"black\", \"blue\", \"brown\"]\n",
    "\n",
    "# set up the plot\n",
    "fig = plt.figure()\n",
    "fig.set_figheight(5.0)\n",
    "fig.set_figwidth(7.5)\n",
    "\n",
    "for nm,lb,co in zip(fnames,labels,colors):\n",
    "    \n",
    "    # read in the signal efficiency vs. background rejection information\n",
    "    fn = tb.open_file(nm,'r')\n",
    "    eff = fn.root.si_eff[0]\n",
    "    bgr = fn.root.bg_rej[0]\n",
    "    \n",
    "    plt.plot(eff,bgr,color=co,label=lb,lw=2)\n",
    "    fn.close()\n",
    "    \n",
    "plt.xlabel(\"signal efficiency\")\n",
    "plt.ylabel(\"background rejection\")\n",
    "plt.legend(loc=3)"
   ]
  },
  {
   "cell_type": "code",
   "execution_count": null,
   "metadata": {
    "collapsed": true
   },
   "outputs": [],
   "source": []
  }
 ],
 "metadata": {
  "anaconda-cloud": {},
  "kernelspec": {
   "display_name": "Python [default]",
   "language": "python",
   "name": "python3"
  },
  "language_info": {
   "codemirror_mode": {
    "name": "ipython",
    "version": 3
   },
   "file_extension": ".py",
   "mimetype": "text/x-python",
   "name": "python",
   "nbconvert_exporter": "python",
   "pygments_lexer": "ipython3",
   "version": "3.5.2"
  }
 },
 "nbformat": 4,
 "nbformat_minor": 0
}
