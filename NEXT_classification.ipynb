{
 "cells": [
  {
   "cell_type": "markdown",
   "metadata": {
    "deletable": true,
    "editable": true
   },
   "source": [
    "# Signal vs. background classification\n",
    "\n",
    "In this notebook we read in the prepared data, construct and train the DNN, and then evaluate its performance."
   ]
  },
  {
   "cell_type": "code",
   "execution_count": 1,
   "metadata": {
    "collapsed": false,
    "deletable": true,
    "editable": true
   },
   "outputs": [
    {
     "name": "stderr",
     "output_type": "stream",
     "text": [
      "Using TensorFlow backend.\n"
     ]
    }
   ],
   "source": [
    "%matplotlib inline\n",
    "import matplotlib.pyplot as plt\n",
    "import numpy  as np\n",
    "import random as rd\n",
    "import tables as tb\n",
    "import h5py\n",
    "import tensorflow as tf\n",
    "\n",
    "from matplotlib.patches         import Ellipse\n",
    "from __future__  import print_function\n",
    "from scipy.stats import threshold\n",
    "\n",
    "# Keras imports\n",
    "import keras.backend.tensorflow_backend as K\n",
    "from keras.models               import Model, load_model\n",
    "from keras.layers               import Input, Dense, MaxPooling3D, AveragePooling3D, Convolution3D, Activation, Dropout, merge\n",
    "from keras.layers.normalization import BatchNormalization\n",
    "from keras.optimizers           import SGD, Adam, Nadam         \n",
    "from keras.layers.convolutional import Convolution2D, MaxPooling2D\n",
    "from keras.layers.core          import Flatten\n",
    "from keras                      import callbacks\n",
    "from keras.regularizers         import l2, l1\n",
    "from keras.initializers         import RandomNormal"
   ]
  },
  {
   "cell_type": "markdown",
   "metadata": {
    "deletable": true,
    "editable": true
   },
   "source": [
    "# Variable definitions\n",
    "Here we define key variables to be used throughout the notebook.  Note that we will read the data from a directory `data_location/run_name`, and it is stored in multiple files:\n",
    "- The training data will consist of the events stored in files from `train_fstart` to `train_fend`\n",
    "- The test data will consist of the events stored in files from `test_fstart` to `test_fend`"
   ]
  },
  {
   "cell_type": "code",
   "execution_count": 2,
   "metadata": {
    "collapsed": true,
    "deletable": true,
    "editable": true
   },
   "outputs": [],
   "source": [
    "# data dimensions\n",
    "xdim = 20\n",
    "ydim = 20\n",
    "zdim = 80\n",
    "\n",
    "ntot = 7500\n",
    "\n",
    "# data location and training/test file numbers\n",
    "data_location = \"/home/jrenner/data/classification/IC_EL\"\n",
    "run_name = \"el_10k_nosmear\"\n",
    "train_fstart = 0\n",
    "train_fend = 9\n",
    "test_fstart = 9\n",
    "test_fend = 10"
   ]
  },
  {
   "cell_type": "markdown",
   "metadata": {
    "deletable": true,
    "editable": true
   },
   "source": [
    "## Function definitions\n",
    "\n",
    "### Data input functions"
   ]
  },
  {
   "cell_type": "code",
   "execution_count": 3,
   "metadata": {
    "collapsed": false,
    "deletable": true,
    "editable": true
   },
   "outputs": [],
   "source": [
    "# define the function to read the data from multiple files\n",
    "def read_data(loc, rname, f_start, f_end, fval):\n",
    "    \"\"\"Reads all events from the files with the specified file numbers.\"\"\"\n",
    "    \n",
    "    # read in the signal events.\n",
    "    print(\"Reading signal events...\")\n",
    "    for fn in range(f_start,f_end):\n",
    "        s_dat = tb.open_file(\"{0}/{1}/hdf5_maps_EL_training_MC_si_0_{2}.h5\".format(loc,rname,fn), 'r')\n",
    "        if(fn == f_start):\n",
    "            s_array = np.array(s_dat.root.maps)\n",
    "            #s_energies = np.array(s_dat.root.energies)\n",
    "            print(\"-- Reading file {0},\".format(fn), end=' ')\n",
    "        else:\n",
    "            print(\"{0},\".format(fn), end=' ')\n",
    "            s_array = np.concatenate([s_array,np.array(s_dat.root.maps)])\n",
    "            #s_energies = np.concatenate([s_energies,np.array(s_dat.root.energies)])\n",
    "    print(\"done.\")\n",
    "\n",
    "    # read in the background events.\n",
    "    print(\"\\nReading background events...\")\n",
    "    for fn in range(f_start,f_end):\n",
    "        b_dat = tb.open_file(\"{0}/{1}/hdf5_maps_EL_training_MC_bg_0_{2}.h5\".format(loc,rname,fn), 'r')\n",
    "        if(fn == f_start):\n",
    "            print(\"-- Reading file {0},\".format(fn), end=' ')\n",
    "            b_array = np.array(b_dat.root.maps)\n",
    "            #b_energies = np.array(b_dat.root.energies)\n",
    "        else:\n",
    "            print(\"{0},\".format(fn), end=' ')\n",
    "            b_array = np.concatenate([b_array,np.array(b_dat.root.maps)])\n",
    "            #b_energies = np.concatenate([b_energies,np.array(b_dat.root.energies)])\n",
    "    print(\"done.\")\n",
    "    s_array = s_array[0:ntot]\n",
    "    b_array = b_array[0:ntot]\n",
    "    print(\"\\nRead {0} signal events and {1} background events.\".format(len(s_array),len(b_array)))\n",
    "        \n",
    "    # concatenate the datasets, splitting into training and validation sets\n",
    "    print(\"Concatenating datasets...\")\n",
    "    nval = int(fval * (len(s_array) + len(b_array)))\n",
    "    \n",
    "    if(nval == 0):\n",
    "        x_ = np.concatenate([s_array, b_array])\n",
    "        y_ = np.concatenate([np.ones([len(s_array), 1]), np.zeros([len(b_array), 1])])\n",
    "\n",
    "        # reshape for training with TensorFlow        \n",
    "        print(\"Reshaping projection...\")\n",
    "        x_ = np.reshape(x_, (len(x_), xdim, ydim, zdim, 1))\n",
    "        print(\"Finished reading data: {0} training/test events\".format(len(x_)))\n",
    "        return x_,y_\n",
    "    else:\n",
    "        x_ = np.concatenate([s_array[0:-nval], b_array[0:-nval]])\n",
    "        y_ = np.concatenate([np.ones([len(s_array[0:-nval]), 1]), np.zeros([len(b_array[0:-nval]), 1])])\n",
    "        xval_ = np.concatenate([s_array[-nval:], b_array[-nval:]])\n",
    "        yval_ = np.concatenate([np.ones([len(s_array[-nval:]), 1]), np.zeros([len(b_array[-nval:]), 1])])\n",
    "\n",
    "        # reshape for training with TensorFlow\n",
    "        print(\"Reshaping projection...\")\n",
    "        x_ = np.reshape(x_, (len(x_), xdim, ydim, zdim, 1))\n",
    "        xval_ = np.reshape(xval_, (len(xval_), xdim, ydim, zdim, 1))\n",
    "        print(\"Finished reading data: {0} training/test and {1} validation events\".format(len(x_),len(xval_)))\n",
    "        return x_,y_,xval_,yval_"
   ]
  },
  {
   "cell_type": "markdown",
   "metadata": {
    "deletable": true,
    "editable": true
   },
   "source": [
    "### Neural network models\n",
    "These functions should define and return a Keras model object."
   ]
  },
  {
   "cell_type": "code",
   "execution_count": 4,
   "metadata": {
    "collapsed": true
   },
   "outputs": [],
   "source": [
    "##################################\n",
    "# Define more neural networks here\n",
    "\n",
    "def model_3D(inputs):\n",
    "    \n",
    "    cinputs = Convolution3D(64, 5, 5, 5, border_mode='same', subsample=(4, 4, 4), activation='relu',init='lecun_uniform', W_regularizer=l2(0.01))(inputs)\n",
    "    cinputs = MaxPooling3D(pool_size=(3, 3, 3), strides=(2, 2, 2), border_mode='same', dim_ordering='default')(cinputs)\n",
    "    cinputs = BatchNormalization(epsilon=1e-05, mode=0, axis=4, momentum=0.99, weights=None, beta_init='zero', gamma_init='one', gamma_regularizer=None, beta_regularizer=None)(cinputs)\n",
    "    cinputs = Convolution3D(16, 1, 1, 1, border_mode='same', subsample=(1, 1, 1), activation='relu',init='lecun_uniform', W_regularizer=l2(0.01))(cinputs)\n",
    "    cinputs = Convolution3D(32, 2, 2, 3, border_mode='same', subsample=(2, 2, 3), activation='relu',init='lecun_uniform', W_regularizer=l2(0.01))(cinputs)\n",
    "    cinputs = BatchNormalization(epsilon=1e-05, mode=0, axis=4, momentum=0.99, weights=None, beta_init='zero', gamma_init='one', gamma_regularizer=None, beta_regularizer=None)(cinputs)\n",
    "    cinputs = Convolution3D(32, 1, 1, 1, border_mode='same', subsample=(1, 1, 1), activation='relu',init='lecun_uniform', W_regularizer=l2(0.01))(cinputs)\n",
    "    cinputs = MaxPooling3D(pool_size=(2, 2, 2), strides=(2, 2, 2), border_mode='same', dim_ordering='default')(cinputs)\n",
    "    f1 = Flatten()(cinputs)\n",
    "    f1 = Dense(output_dim=16, activation='relu', init='lecun_uniform', W_regularizer=l2(0.01))(f1)\n",
    "    f1 = Dropout(.6)(f1)\n",
    "\n",
    "    inc_output = Dense(output_dim=1, activation='sigmoid',init='normal', W_regularizer=l2(0.01))(f1)\n",
    "    model = Model(inputs, inc_output)\n",
    "    \n",
    "    model.compile(loss='binary_crossentropy',\n",
    "                optimizer=Nadam(lr=0.0001, beta_1=0.9, beta_2=0.999,\n",
    "                                epsilon=1e-08, schedule_decay=0.01), metrics=['accuracy'])\n",
    "    \n",
    "    # ----------\n",
    "    return model"
   ]
  },
  {
   "cell_type": "code",
   "execution_count": 5,
   "metadata": {
    "collapsed": false
   },
   "outputs": [],
   "source": [
    "#testmodel\n",
    "def model_test(inpus):\n",
    "    f1 = Flatten()(inputs)\n",
    "    f1 = Dense(units=128, kernel_initializer=\"normal\", activation=\"relu\", kernel_regularizer=l2(0.00001), activity_regularizer=l1(0.00001))(f1)\n",
    "    f1 = Dropout(.7)(f1)\n",
    "    inc_output = Dense(units=1, kernel_initializer=\"normal\", activation=\"sigmoid\")(f1)\n",
    "    model = Model(inputs, inc_output)\n",
    "\n",
    "    model.compile(loss='binary_crossentropy',\n",
    "                  optimizer=Nadam(lr=0.002, beta_1=0.9, beta_2=0.999, epsilon=1e-08, schedule_decay=0.004), metrics=['accuracy'])  \n",
    "    return model"
   ]
  },
  {
   "cell_type": "code",
   "execution_count": 6,
   "metadata": {
    "collapsed": false
   },
   "outputs": [],
   "source": [
    "# define a fully-connected neural network with 64 hidden neurons and 1 readout neuron\n",
    "def model_FC(inputs):\n",
    "    \n",
    "    f1 = Flatten()(inputs)\n",
    "    f1 = Dense(units=64, kernel_initializer=\"normal\", activation=\"sigmoid\")(f1)\n",
    "    f1 = Dense(units=64, kernel_initializer=\"normal\", activation=\"sigmoid\")(f1)\n",
    "    f1 = Dense(units=64, kernel_initializer=\"normal\", activation=\"sigmoid\")(f1)\n",
    "    f1 = Dropout(.3)(f1)\n",
    "    inc_output = Dense(units=1, kernel_initializer=\"normal\", activation=\"sigmoid\")(f1)\n",
    "    model = Model(inputs, inc_output)\n",
    "\n",
    "    model.compile(loss='binary_crossentropy',\n",
    "                  optimizer=Nadam(lr=0.00001, beta_1=0.9, beta_2=0.999,\n",
    "                                  epsilon=1e-08, schedule_decay=0.01),\n",
    "                                  metrics=['accuracy'])  \n",
    "    return model"
   ]
  },
  {
   "cell_type": "code",
   "execution_count": 7,
   "metadata": {
    "collapsed": true,
    "deletable": true,
    "editable": true
   },
   "outputs": [],
   "source": [
    "# plot a 20x20 SiPM map\n",
    "# -- carried over from NEW_kr_diff_mc_train.ipynb\n",
    "def NEW_SiPM_map_plot(xarr, normalize=True):\n",
    "    \"\"\"\n",
    "    Plots a SiPM map in the NEW Geometry\n",
    "    xarr is a NEW sipm map, yarr the pair of coordinates the map corresponds to\n",
    "    \"\"\"\n",
    "    if normalize:\n",
    "        probs = (xarr - np.min(xarr))\n",
    "        probs /= np.max(probs)\n",
    "    else: \n",
    "        probs = xarr\n",
    "\n",
    "    # set up the figure\n",
    "    fig = plt.figure();\n",
    "    ax1 = fig.add_subplot(111);\n",
    "    fig.set_figheight(5.0)\n",
    "    fig.set_figwidth(5.0)\n",
    "    ax1.axis([-100, 100, -100, 100]);\n",
    "\n",
    "    for i in range(20):\n",
    "        for j in range(20):\n",
    "            r = Ellipse(xy=(i * 10 - 95, j * 10 - 95), width=2., height=2.);\n",
    "            r.set_facecolor('0');\n",
    "            r.set_alpha(probs[i, j]);\n",
    "            ax1.add_artist(r);\n",
    "        \n",
    "    plt.xlabel(\"x (mm)\");\n",
    "    plt.ylabel(\"y (mm)\");"
   ]
  },
  {
   "cell_type": "markdown",
   "metadata": {
    "deletable": true,
    "editable": true
   },
   "source": [
    "## Load in the data"
   ]
  },
  {
   "cell_type": "code",
   "execution_count": 8,
   "metadata": {
    "collapsed": false,
    "deletable": true,
    "editable": true
   },
   "outputs": [
    {
     "name": "stdout",
     "output_type": "stream",
     "text": [
      "Reading signal events...\n",
      "-- Reading file 0, 1, 2, 3, 4, 5, 6, 7, 8, done.\n",
      "\n",
      "Reading background events...\n",
      "-- Reading file 0, 1, 2, 3, 4, 5, 6, 7, 8, done.\n",
      "\n",
      "Read 7500 signal events and 7500 background events.\n",
      "Concatenating datasets...\n",
      "Reshaping projection...\n",
      "Finished reading data: 12000 training/test and 3000 validation events\n"
     ]
    }
   ],
   "source": [
    "# read in the training data\n",
    "x_train, y_train, x_val, y_val = read_data(data_location, run_name, train_fstart, train_fend, 0.1)"
   ]
  },
  {
   "cell_type": "code",
   "execution_count": 9,
   "metadata": {
    "collapsed": false,
    "deletable": true,
    "editable": true
   },
   "outputs": [
    {
     "data": {
      "image/png": "[encoded data removed]",
      "text/plain": [
       "<matplotlib.figure.Figure at 0x7f85dc8a19e8>"
      ]
     },
     "metadata": {},
     "output_type": "display_data"
    }
   ],
   "source": [
    "# plot one slice of one event\n",
    "NEW_SiPM_map_plot(x_train[0,:,:,18,0])"
   ]
  },
  {
   "cell_type": "markdown",
   "metadata": {
    "deletable": true,
    "editable": true
   },
   "source": [
    "## Define and train the DNN"
   ]
  },
  {
   "cell_type": "code",
   "execution_count": 10,
   "metadata": {
    "collapsed": false,
    "deletable": true,
    "editable": true
   },
   "outputs": [
    {
     "name": "stderr",
     "output_type": "stream",
     "text": [
      "/software/anaconda3/lib/python3.5/site-packages/keras/legacy/interfaces.py:86: UserWarning: Update your `Conv3D` call to the Keras 2 API: `Conv3D(64, (5, 5, 5), activation=\"relu\", padding=\"same\", strides=(4, 4, 4), kernel_regularizer=<keras.reg..., kernel_initializer=\"lecun_uniform\")`\n",
      "  '` call to the Keras 2 API: ' + signature)\n",
      "/software/anaconda3/lib/python3.5/site-packages/keras/legacy/interfaces.py:86: UserWarning: Update your `MaxPooling3D` call to the Keras 2 API: `MaxPooling3D(pool_size=(3, 3, 3), strides=(2, 2, 2), padding=\"same\", data_format=None)`\n",
      "  '` call to the Keras 2 API: ' + signature)\n",
      "/software/anaconda3/lib/python3.5/site-packages/keras/legacy/interfaces.py:86: UserWarning: Update your `BatchNormalization` call to the Keras 2 API: `BatchNormalization(weights=None, gamma_initializer=\"one\", momentum=0.99, beta_initializer=\"zero\", axis=4, epsilon=1e-05, gamma_regularizer=None, beta_regularizer=None)`\n",
      "  '` call to the Keras 2 API: ' + signature)\n",
      "/software/anaconda3/lib/python3.5/site-packages/keras/legacy/interfaces.py:86: UserWarning: Update your `Conv3D` call to the Keras 2 API: `Conv3D(16, (1, 1, 1), activation=\"relu\", padding=\"same\", strides=(1, 1, 1), kernel_regularizer=<keras.reg..., kernel_initializer=\"lecun_uniform\")`\n",
      "  '` call to the Keras 2 API: ' + signature)\n",
      "/software/anaconda3/lib/python3.5/site-packages/keras/legacy/interfaces.py:86: UserWarning: Update your `Conv3D` call to the Keras 2 API: `Conv3D(32, (2, 2, 3), activation=\"relu\", padding=\"same\", strides=(2, 2, 3), kernel_regularizer=<keras.reg..., kernel_initializer=\"lecun_uniform\")`\n",
      "  '` call to the Keras 2 API: ' + signature)\n",
      "/software/anaconda3/lib/python3.5/site-packages/keras/legacy/interfaces.py:86: UserWarning: Update your `Conv3D` call to the Keras 2 API: `Conv3D(32, (1, 1, 1), activation=\"relu\", padding=\"same\", strides=(1, 1, 1), kernel_regularizer=<keras.reg..., kernel_initializer=\"lecun_uniform\")`\n",
      "  '` call to the Keras 2 API: ' + signature)\n",
      "/software/anaconda3/lib/python3.5/site-packages/keras/legacy/interfaces.py:86: UserWarning: Update your `MaxPooling3D` call to the Keras 2 API: `MaxPooling3D(pool_size=(2, 2, 2), strides=(2, 2, 2), padding=\"same\", data_format=None)`\n",
      "  '` call to the Keras 2 API: ' + signature)\n"
     ]
    },
    {
     "name": "stdout",
     "output_type": "stream",
     "text": [
      "_________________________________________________________________\n",
      "Layer (type)                 Output Shape              Param #   \n",
      "=================================================================\n",
      "input_1 (InputLayer)         (None, 20, 20, 80, 1)     0         \n",
      "_________________________________________________________________\n",
      "conv3d_1 (Conv3D)            (None, 5, 5, 20, 64)      8064      \n",
      "_________________________________________________________________\n",
      "max_pooling3d_1 (MaxPooling3 (None, 3, 3, 10, 64)      0         \n",
      "_________________________________________________________________\n",
      "batch_normalization_1 (Batch (None, 3, 3, 10, 64)      256       \n",
      "_________________________________________________________________\n",
      "conv3d_2 (Conv3D)            (None, 3, 3, 10, 16)      1040      \n",
      "_________________________________________________________________\n",
      "conv3d_3 (Conv3D)            (None, 2, 2, 4, 32)       6176      \n",
      "_________________________________________________________________\n",
      "batch_normalization_2 (Batch (None, 2, 2, 4, 32)       128       \n",
      "_________________________________________________________________\n",
      "conv3d_4 (Conv3D)            (None, 2, 2, 4, 32)       1056      \n",
      "_________________________________________________________________\n",
      "max_pooling3d_2 (MaxPooling3 (None, 1, 1, 2, 32)       0         \n",
      "_________________________________________________________________\n",
      "flatten_1 (Flatten)          (None, 64)                0         \n",
      "_________________________________________________________________\n",
      "dense_1 (Dense)              (None, 16)                1040      \n",
      "_________________________________________________________________\n",
      "dropout_1 (Dropout)          (None, 16)                0         \n",
      "_________________________________________________________________\n",
      "dense_2 (Dense)              (None, 1)                 17        \n",
      "=================================================================\n",
      "Total params: 17,777.0\n",
      "Trainable params: 17,585.0\n",
      "Non-trainable params: 192.0\n",
      "_________________________________________________________________\n"
     ]
    },
    {
     "name": "stderr",
     "output_type": "stream",
     "text": [
      "/software/anaconda3/lib/python3.5/site-packages/keras/legacy/interfaces.py:86: UserWarning: Update your `Dense` call to the Keras 2 API: `Dense(units=16, activation=\"relu\", kernel_regularizer=<keras.reg..., kernel_initializer=\"lecun_uniform\")`\n",
      "  '` call to the Keras 2 API: ' + signature)\n",
      "/software/anaconda3/lib/python3.5/site-packages/keras/legacy/interfaces.py:86: UserWarning: Update your `Dense` call to the Keras 2 API: `Dense(units=1, activation=\"sigmoid\", kernel_regularizer=<keras.reg..., kernel_initializer=\"normal\")`\n",
      "  '` call to the Keras 2 API: ' + signature)\n"
     ]
    }
   ],
   "source": [
    "# set load_model to true and specify the file to load in a previously defined/trained model\n",
    "load_weights = False\n",
    "mfile = 'models/conv3d_classifier.h5'\n",
    "\n",
    "if(load_weights):\n",
    "    model = load_model(mfile)\n",
    "else:\n",
    "    \n",
    "    # otherwise define the model\n",
    "    inputs = Input(shape=(xdim, ydim, zdim, 1))\n",
    "    model = model_3D(inputs)\n",
    "    \n",
    "    # define callbacks (actions to be taken after each epoch of training)\n",
    "    file_lbl = \"{epoch:02d}-{loss:.4f}\"\n",
    "    filepath=\"weights-{0}.h5\".format(file_lbl)\n",
    "    checkpoint = callbacks.ModelCheckpoint(filepath, monitor='val_loss', verbose=0, save_best_only=True, mode='min')\n",
    "    lcallbacks = [checkpoint]            \n",
    "    model.summary()"
   ]
  },
  {
   "cell_type": "code",
   "execution_count": null,
   "metadata": {
    "collapsed": false,
    "deletable": true,
    "editable": true,
    "scrolled": false
   },
   "outputs": [],
   "source": [
    "# train the model\n",
    "hist = model.fit(x_train, y_train, shuffle=True, epochs=200, batch_size=100, verbose=1, validation_data=(x_val,y_val), callbacks=lcallbacks)"
   ]
  },
  {
   "cell_type": "markdown",
   "metadata": {
    "deletable": true,
    "editable": true
   },
   "source": [
    "## Test the trained model"
   ]
  },
  {
   "cell_type": "code",
   "execution_count": null,
   "metadata": {
    "collapsed": false,
    "deletable": true,
    "editable": true
   },
   "outputs": [],
   "source": [
    "# read in the test data\n",
    "x_test, y_test = read_data(data_location, run_name, test_fstart + 4 , test_fend  + 10, 0.0)"
   ]
  },
  {
   "cell_type": "code",
   "execution_count": null,
   "metadata": {
    "collapsed": false,
    "deletable": true,
    "editable": true
   },
   "outputs": [],
   "source": [
    "# compute the predictions\n",
    "loss_and_metrics = model.evaluate(x_test, y_test);\n",
    "y_pred = model.predict(x_test, batch_size=100, verbose=0)\n",
    "print(loss_and_metrics)"
   ]
  },
  {
   "cell_type": "code",
   "execution_count": null,
   "metadata": {
    "collapsed": true,
    "deletable": true,
    "editable": true
   },
   "outputs": [],
   "source": []
  }
 ],
 "metadata": {
  "anaconda-cloud": {},
  "kernelspec": {
   "display_name": "Python [conda root]",
   "language": "python",
   "name": "conda-root-py"
  },
  "language_info": {
   "codemirror_mode": {
    "name": "ipython",
    "version": 3
   },
   "file_extension": ".py",
   "mimetype": "text/x-python",
   "name": "python",
   "nbconvert_exporter": "python",
   "pygments_lexer": "ipython3",
   "version": "3.5.2"
  }
 },
 "nbformat": 4,
 "nbformat_minor": 0
}
